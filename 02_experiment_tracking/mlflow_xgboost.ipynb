{
 "cells": [
  {
   "cell_type": "code",
   "execution_count": 2,
   "id": "fae0ae85",
   "metadata": {},
   "outputs": [],
   "source": [
    "import pandas as pd"
   ]
  },
  {
   "cell_type": "code",
   "execution_count": 3,
   "id": "71c1a700",
   "metadata": {},
   "outputs": [
    {
     "data": {
      "text/plain": [
       "'2.2.3'"
      ]
     },
     "execution_count": 3,
     "metadata": {},
     "output_type": "execute_result"
    }
   ],
   "source": [
    "pd.__version__"
   ]
  },
  {
   "cell_type": "code",
   "execution_count": 4,
   "id": "ef09a2e9",
   "metadata": {},
   "outputs": [
    {
     "name": "stdout",
     "output_type": "stream",
     "text": [
      "Requirement already satisfied: pyarrow in /opt/conda/envs/mlflow_env/lib/python3.9/site-packages (19.0.1)\n"
     ]
    }
   ],
   "source": [
    "!pip install pyarrow"
   ]
  },
  {
   "cell_type": "code",
   "execution_count": 5,
   "id": "5517007b",
   "metadata": {},
   "outputs": [],
   "source": [
    "import pandas as pd\n",
    "import pickle\n",
    "import seaborn as sns\n",
    "import matplotlib.pyplot as plt"
   ]
  },
  {
   "cell_type": "code",
   "execution_count": 6,
   "id": "ed220641",
   "metadata": {},
   "outputs": [],
   "source": [
    "from sklearn.feature_extraction import DictVectorizer\n",
    "from sklearn.linear_model import LinearRegression\n",
    "from sklearn.linear_model import Lasso,Ridge\n",
    "from sklearn.metrics import root_mean_squared_error"
   ]
  },
  {
   "cell_type": "code",
   "execution_count": 7,
   "id": "25460a8e-ec5a-4c7f-bd93-06165c11865f",
   "metadata": {},
   "outputs": [
    {
     "data": {
      "text/plain": [
       "<Experiment: artifact_location='/workspaces/MLOps-zoomcamp/02_experiment_tracking/mlruns/1', creation_time=1742415919471, experiment_id='1', last_update_time=1742415919471, lifecycle_stage='active', name='nyc__taxi_experiment', tags={}>"
      ]
     },
     "execution_count": 7,
     "metadata": {},
     "output_type": "execute_result"
    }
   ],
   "source": [
    "import mlflow\n",
    "mlflow.set_tracking_uri(\"sqlite:///mlflow.db\")\n",
    "mlflow.set_experiment(\"nyc__taxi_experiment\")"
   ]
  },
  {
   "cell_type": "markdown",
   "id": "dd2cf85b",
   "metadata": {},
   "source": [
    "#### Green taxi trip-2021"
   ]
  },
  {
   "cell_type": "code",
   "execution_count": 8,
   "id": "5efaf9fd",
   "metadata": {},
   "outputs": [],
   "source": [
    "def read_dataframe(filename):\n",
    "    if filename.endswith('.csv'):\n",
    "        df=pd.read_csv(filename)\n",
    "        df.lpep_dropoff_datetime = pd.to_datetime(df.lpep_dropoff_datetime)\n",
    "        df.lpep_pickup_datetime = pd.to_datetime(df.lpep_pickup_datetime)\n",
    "    elif filename.endswith('.parquet'):\n",
    "        df=pd.read_parquet(filename)\n",
    "    df['duration']=df.lpep_dropoff_datetime - df.lpep_pickup_datetime\n",
    "    df.duration=df.duration.apply(lambda m : m.total_seconds() / 60)\n",
    "    \n",
    "    df=df[(df.duration >= 1) & (df.duration <= 60)]\n",
    "    categorical=['PULocationID','DOLocationID']\n",
    "    numerical=['trip_distance']\n",
    "    \n",
    "    df[categorical]=df[categorical].astype(str)\n",
    "    return df    "
   ]
  },
  {
   "cell_type": "code",
   "execution_count": 9,
   "id": "471acc9d",
   "metadata": {},
   "outputs": [],
   "source": [
    "df_train=read_dataframe('https://d37ci6vzurychx.cloudfront.net/trip-data/green_tripdata_2021-01.parquet')\n",
    "df_val=read_dataframe('https://d37ci6vzurychx.cloudfront.net/trip-data/green_tripdata_2021-02.parquet')"
   ]
  },
  {
   "cell_type": "code",
   "execution_count": 10,
   "id": "3fe22a76",
   "metadata": {},
   "outputs": [
    {
     "data": {
      "text/plain": [
       "(73908, 61921)"
      ]
     },
     "execution_count": 10,
     "metadata": {},
     "output_type": "execute_result"
    }
   ],
   "source": [
    "len(df_train),len(df_val)"
   ]
  },
  {
   "cell_type": "code",
   "execution_count": 11,
   "id": "c56d6c0f",
   "metadata": {},
   "outputs": [
    {
     "data": {
      "text/html": [
       "<div>\n",
       "<style scoped>\n",
       "    .dataframe tbody tr th:only-of-type {\n",
       "        vertical-align: middle;\n",
       "    }\n",
       "\n",
       "    .dataframe tbody tr th {\n",
       "        vertical-align: top;\n",
       "    }\n",
       "\n",
       "    .dataframe thead th {\n",
       "        text-align: right;\n",
       "    }\n",
       "</style>\n",
       "<table border=\"1\" class=\"dataframe\">\n",
       "  <thead>\n",
       "    <tr style=\"text-align: right;\">\n",
       "      <th></th>\n",
       "      <th>VendorID</th>\n",
       "      <th>lpep_pickup_datetime</th>\n",
       "      <th>lpep_dropoff_datetime</th>\n",
       "      <th>store_and_fwd_flag</th>\n",
       "      <th>RatecodeID</th>\n",
       "      <th>PULocationID</th>\n",
       "      <th>DOLocationID</th>\n",
       "      <th>passenger_count</th>\n",
       "      <th>trip_distance</th>\n",
       "      <th>fare_amount</th>\n",
       "      <th>...</th>\n",
       "      <th>mta_tax</th>\n",
       "      <th>tip_amount</th>\n",
       "      <th>tolls_amount</th>\n",
       "      <th>ehail_fee</th>\n",
       "      <th>improvement_surcharge</th>\n",
       "      <th>total_amount</th>\n",
       "      <th>payment_type</th>\n",
       "      <th>trip_type</th>\n",
       "      <th>congestion_surcharge</th>\n",
       "      <th>duration</th>\n",
       "    </tr>\n",
       "  </thead>\n",
       "  <tbody>\n",
       "    <tr>\n",
       "      <th>0</th>\n",
       "      <td>2</td>\n",
       "      <td>2021-01-01 00:15:56</td>\n",
       "      <td>2021-01-01 00:19:52</td>\n",
       "      <td>N</td>\n",
       "      <td>1.0</td>\n",
       "      <td>43</td>\n",
       "      <td>151</td>\n",
       "      <td>1.0</td>\n",
       "      <td>1.01</td>\n",
       "      <td>5.5</td>\n",
       "      <td>...</td>\n",
       "      <td>0.5</td>\n",
       "      <td>0.00</td>\n",
       "      <td>0.0</td>\n",
       "      <td>None</td>\n",
       "      <td>0.3</td>\n",
       "      <td>6.80</td>\n",
       "      <td>2.0</td>\n",
       "      <td>1.0</td>\n",
       "      <td>0.00</td>\n",
       "      <td>3.933333</td>\n",
       "    </tr>\n",
       "    <tr>\n",
       "      <th>1</th>\n",
       "      <td>2</td>\n",
       "      <td>2021-01-01 00:25:59</td>\n",
       "      <td>2021-01-01 00:34:44</td>\n",
       "      <td>N</td>\n",
       "      <td>1.0</td>\n",
       "      <td>166</td>\n",
       "      <td>239</td>\n",
       "      <td>1.0</td>\n",
       "      <td>2.53</td>\n",
       "      <td>10.0</td>\n",
       "      <td>...</td>\n",
       "      <td>0.5</td>\n",
       "      <td>2.81</td>\n",
       "      <td>0.0</td>\n",
       "      <td>None</td>\n",
       "      <td>0.3</td>\n",
       "      <td>16.86</td>\n",
       "      <td>1.0</td>\n",
       "      <td>1.0</td>\n",
       "      <td>2.75</td>\n",
       "      <td>8.750000</td>\n",
       "    </tr>\n",
       "    <tr>\n",
       "      <th>2</th>\n",
       "      <td>2</td>\n",
       "      <td>2021-01-01 00:45:57</td>\n",
       "      <td>2021-01-01 00:51:55</td>\n",
       "      <td>N</td>\n",
       "      <td>1.0</td>\n",
       "      <td>41</td>\n",
       "      <td>42</td>\n",
       "      <td>1.0</td>\n",
       "      <td>1.12</td>\n",
       "      <td>6.0</td>\n",
       "      <td>...</td>\n",
       "      <td>0.5</td>\n",
       "      <td>1.00</td>\n",
       "      <td>0.0</td>\n",
       "      <td>None</td>\n",
       "      <td>0.3</td>\n",
       "      <td>8.30</td>\n",
       "      <td>1.0</td>\n",
       "      <td>1.0</td>\n",
       "      <td>0.00</td>\n",
       "      <td>5.966667</td>\n",
       "    </tr>\n",
       "    <tr>\n",
       "      <th>3</th>\n",
       "      <td>2</td>\n",
       "      <td>2020-12-31 23:57:51</td>\n",
       "      <td>2021-01-01 00:04:56</td>\n",
       "      <td>N</td>\n",
       "      <td>1.0</td>\n",
       "      <td>168</td>\n",
       "      <td>75</td>\n",
       "      <td>1.0</td>\n",
       "      <td>1.99</td>\n",
       "      <td>8.0</td>\n",
       "      <td>...</td>\n",
       "      <td>0.5</td>\n",
       "      <td>0.00</td>\n",
       "      <td>0.0</td>\n",
       "      <td>None</td>\n",
       "      <td>0.3</td>\n",
       "      <td>9.30</td>\n",
       "      <td>2.0</td>\n",
       "      <td>1.0</td>\n",
       "      <td>0.00</td>\n",
       "      <td>7.083333</td>\n",
       "    </tr>\n",
       "    <tr>\n",
       "      <th>7</th>\n",
       "      <td>2</td>\n",
       "      <td>2021-01-01 00:26:31</td>\n",
       "      <td>2021-01-01 00:28:50</td>\n",
       "      <td>N</td>\n",
       "      <td>1.0</td>\n",
       "      <td>75</td>\n",
       "      <td>75</td>\n",
       "      <td>6.0</td>\n",
       "      <td>0.45</td>\n",
       "      <td>3.5</td>\n",
       "      <td>...</td>\n",
       "      <td>0.5</td>\n",
       "      <td>0.96</td>\n",
       "      <td>0.0</td>\n",
       "      <td>None</td>\n",
       "      <td>0.3</td>\n",
       "      <td>5.76</td>\n",
       "      <td>1.0</td>\n",
       "      <td>1.0</td>\n",
       "      <td>0.00</td>\n",
       "      <td>2.316667</td>\n",
       "    </tr>\n",
       "  </tbody>\n",
       "</table>\n",
       "<p>5 rows × 21 columns</p>\n",
       "</div>"
      ],
      "text/plain": [
       "   VendorID lpep_pickup_datetime lpep_dropoff_datetime store_and_fwd_flag  \\\n",
       "0         2  2021-01-01 00:15:56   2021-01-01 00:19:52                  N   \n",
       "1         2  2021-01-01 00:25:59   2021-01-01 00:34:44                  N   \n",
       "2         2  2021-01-01 00:45:57   2021-01-01 00:51:55                  N   \n",
       "3         2  2020-12-31 23:57:51   2021-01-01 00:04:56                  N   \n",
       "7         2  2021-01-01 00:26:31   2021-01-01 00:28:50                  N   \n",
       "\n",
       "   RatecodeID PULocationID DOLocationID  passenger_count  trip_distance  \\\n",
       "0         1.0           43          151              1.0           1.01   \n",
       "1         1.0          166          239              1.0           2.53   \n",
       "2         1.0           41           42              1.0           1.12   \n",
       "3         1.0          168           75              1.0           1.99   \n",
       "7         1.0           75           75              6.0           0.45   \n",
       "\n",
       "   fare_amount  ...  mta_tax  tip_amount  tolls_amount  ehail_fee  \\\n",
       "0          5.5  ...      0.5        0.00           0.0       None   \n",
       "1         10.0  ...      0.5        2.81           0.0       None   \n",
       "2          6.0  ...      0.5        1.00           0.0       None   \n",
       "3          8.0  ...      0.5        0.00           0.0       None   \n",
       "7          3.5  ...      0.5        0.96           0.0       None   \n",
       "\n",
       "  improvement_surcharge  total_amount  payment_type  trip_type  \\\n",
       "0                   0.3          6.80           2.0        1.0   \n",
       "1                   0.3         16.86           1.0        1.0   \n",
       "2                   0.3          8.30           1.0        1.0   \n",
       "3                   0.3          9.30           2.0        1.0   \n",
       "7                   0.3          5.76           1.0        1.0   \n",
       "\n",
       "   congestion_surcharge  duration  \n",
       "0                  0.00  3.933333  \n",
       "1                  2.75  8.750000  \n",
       "2                  0.00  5.966667  \n",
       "3                  0.00  7.083333  \n",
       "7                  0.00  2.316667  \n",
       "\n",
       "[5 rows x 21 columns]"
      ]
     },
     "execution_count": 11,
     "metadata": {},
     "output_type": "execute_result"
    }
   ],
   "source": [
    "df_train.head()"
   ]
  },
  {
   "cell_type": "code",
   "execution_count": 12,
   "id": "01397456",
   "metadata": {},
   "outputs": [],
   "source": [
    "df_train['PU_DO'] = df_train['PULocationID'] + '_' + df_train['DOLocationID']\n",
    "df_val['PU_DO'] = df_val['PULocationID'] + '_' + df_val['DOLocationID']"
   ]
  },
  {
   "cell_type": "code",
   "execution_count": 13,
   "id": "8f94391c",
   "metadata": {},
   "outputs": [],
   "source": [
    "categorical = ['PU_DO'] #'PULocationID', 'DOLocationID']\n",
    "numerical = ['trip_distance']\n",
    "\n",
    "dv = DictVectorizer()\n",
    "\n",
    "train_dicts = df_train[categorical + numerical].to_dict(orient='records')\n",
    "X_train = dv.fit_transform(train_dicts)\n",
    "\n",
    "val_dicts = df_val[categorical + numerical].to_dict(orient='records')\n",
    "X_val = dv.transform(val_dicts)"
   ]
  },
  {
   "cell_type": "code",
   "execution_count": 14,
   "id": "9486e896",
   "metadata": {},
   "outputs": [],
   "source": [
    "target = 'duration'\n",
    "y_train = df_train[target].values\n",
    "y_val = df_val[target].values"
   ]
  },
  {
   "cell_type": "markdown",
   "id": "bc85ec0b",
   "metadata": {},
   "source": [
    "### Linear Regression"
   ]
  },
  {
   "cell_type": "code",
   "execution_count": 17,
   "id": "a6a7653f",
   "metadata": {},
   "outputs": [
    {
     "data": {
      "text/plain": [
       "7.758715209663881"
      ]
     },
     "execution_count": 17,
     "metadata": {},
     "output_type": "execute_result"
    }
   ],
   "source": [
    "lr = LinearRegression()\n",
    "lr.fit(X_train, y_train)\n",
    "\n",
    "y_pred = lr.predict(X_val)\n",
    "\n",
    "root_mean_squared_error(y_val, y_pred)"
   ]
  },
  {
   "cell_type": "code",
   "execution_count": 18,
   "id": "2b5445b7",
   "metadata": {},
   "outputs": [],
   "source": [
    "with open('models/lin_reg.bin','wb') as f_out:\n",
    "    pickle.dump((dv,lr),f_out)"
   ]
  },
  {
   "cell_type": "markdown",
   "id": "b0ef7b1b",
   "metadata": {},
   "source": [
    "### Lasso Regression"
   ]
  },
  {
   "cell_type": "code",
   "execution_count": 19,
   "id": "4cdc0b10",
   "metadata": {},
   "outputs": [],
   "source": [
    "with mlflow.start_run():\n",
    "    mlflow.set_tag(\"developer\",\"slv\")\n",
    "    alpha=0.1\n",
    "    mlflow.log_param(\"alpha\",alpha)\n",
    "    lasso_reg = Lasso(alpha)\n",
    "    lasso_reg.fit(X_train, y_train)\n",
    "    \n",
    "    y_pred=lasso_reg.predict(X_val)\n",
    "    rmse=root_mean_squared_error(y_val,y_pred)\n",
    "    mlflow.log_metric(\"rmse\",rmse)    \n",
    "    mlflow.log_artifact(local_path=\"models/lin_reg.bin\",artifact_path=\"models_pickle\")"
   ]
  },
  {
   "cell_type": "markdown",
   "id": "4fe53428",
   "metadata": {},
   "source": [
    "### xgboost - Hyperparameter optimization"
   ]
  },
  {
   "cell_type": "code",
   "execution_count": 15,
   "id": "6c30792d-4ce1-4dbf-b2a1-94e97e335f8c",
   "metadata": {},
   "outputs": [],
   "source": [
    "import xgboost as xgb\n",
    "from hyperopt import fmin,tpe,hp,STATUS_OK,Trials\n",
    "from hyperopt.pyll import scope\n"
   ]
  },
  {
   "cell_type": "code",
   "execution_count": 16,
   "id": "3d85ad1c-8b58-4768-8457-5cb69f2ef38a",
   "metadata": {},
   "outputs": [],
   "source": [
    "train=xgb.DMatrix(X_train,label=y_train)\n",
    "valid=xgb.DMatrix(X_val,label=y_val)"
   ]
  },
  {
   "cell_type": "code",
   "execution_count": 18,
   "id": "5ef8ed95-ce5c-492c-8de6-2c127b5840d3",
   "metadata": {},
   "outputs": [],
   "source": [
    "def objective(params):\n",
    "    with mlflow.start_run():\n",
    "        mlflow.set_tag(\"model\",\"xgboost\")\n",
    "        mlflow.log_params(params)\n",
    "        booster=xgb.train(\n",
    "            params=params,\n",
    "            dtrain=train,\n",
    "            num_boost_round=50,\n",
    "            evals=[(valid,'validation')],\n",
    "            early_stopping_rounds=50\n",
    "        )\n",
    "        y_pred=booster.predict(valid)\n",
    "        rmse=root_mean_squared_error(y_val,y_pred)\n",
    "        mlflow.log_metric(\"rmse\",rmse)\n",
    "        with open(\"models/preprocessor.b\",\"wb\") as f_out:\n",
    "            pickle.dump(dv,f_out)\n",
    "        mlflow.log_artifact(\"models/preprocessor.b\",artifact_path=\"models.xgboost\")\n",
    "\n",
    "        mlflow.xgboost.log_model(booster, artifact_path=\"models_mlflow\")\n",
    "    return {'loss':rmse,'status':STATUS_OK}\n",
    "            \n"
   ]
  },
  {
   "cell_type": "code",
   "execution_count": 19,
   "id": "9e721550-2269-4b7a-8219-6cde810685cd",
   "metadata": {},
   "outputs": [],
   "source": [
    "search_space={\n",
    "    'max_depth': scope.int(hp.quniform('max_depth', 4, 100, 1)),\n",
    "    'learning_rate': hp.loguniform('learning_rate', -3, 0),\n",
    "    'reg_alpha': hp.loguniform('reg_alpha', -5, -1),\n",
    "    'reg_lambda': hp.loguniform('reg_lambda', -6, -1),\n",
    "    'min_child_weight': hp.loguniform('min_child_weight', -1, 3),\n",
    "    'objective': 'reg:linear',\n",
    "    'seed': 42\n",
    "}"
   ]
  },
  {
   "cell_type": "code",
   "execution_count": 20,
   "id": "852b4429-de87-4fb0-9e54-d8e6d35e2639",
   "metadata": {},
   "outputs": [
    {
     "name": "stdout",
     "output_type": "stream",
     "text": [
      "  0%|                                                 | 0/10 [00:00<?, ?trial/s, best loss=?]"
     ]
    },
    {
     "name": "stderr",
     "output_type": "stream",
     "text": [
      "/opt/conda/envs/mlflow_env/lib/python3.9/site-packages/xgboost/core.py:158: UserWarning: [22:05:06] WARNING: /workspace/src/objective/regression_obj.cu:227: reg:linear is now deprecated in favor of reg:squarederror.\n",
      "  warnings.warn(smsg, UserWarning)\n",
      "\n"
     ]
    },
    {
     "name": "stdout",
     "output_type": "stream",
     "text": [
      "[0]\tvalidation-rmse:11.23800                                                                 \n",
      "[1]\tvalidation-rmse:10.41830                                                                 \n",
      "[2]\tvalidation-rmse:9.73496                                                                  \n",
      "[3]\tvalidation-rmse:9.16844                                                                  \n",
      "[4]\tvalidation-rmse:8.70253                                                                  \n",
      "[5]\tvalidation-rmse:8.31102                                                                  \n",
      "[6]\tvalidation-rmse:7.99435                                                                  \n",
      "[7]\tvalidation-rmse:7.73927                                                                  \n",
      "[8]\tvalidation-rmse:7.52495                                                                  \n",
      "[9]\tvalidation-rmse:7.35931                                                                  \n",
      "[10]\tvalidation-rmse:7.22000                                                                 \n",
      "[11]\tvalidation-rmse:7.10231                                                                 \n",
      "[12]\tvalidation-rmse:7.01020                                                                 \n",
      "[13]\tvalidation-rmse:6.93647                                                                 \n",
      "[14]\tvalidation-rmse:6.87488                                                                 \n",
      "[15]\tvalidation-rmse:6.82567                                                                 \n",
      "[16]\tvalidation-rmse:6.78381                                                                 \n",
      "[17]\tvalidation-rmse:6.74793                                                                 \n",
      "[18]\tvalidation-rmse:6.71621                                                                 \n",
      "[19]\tvalidation-rmse:6.68889                                                                 \n",
      "[20]\tvalidation-rmse:6.66824                                                                 \n",
      "[21]\tvalidation-rmse:6.64777                                                                 \n",
      "[22]\tvalidation-rmse:6.63332                                                                 \n",
      "[23]\tvalidation-rmse:6.61719                                                                 \n",
      "[24]\tvalidation-rmse:6.60650                                                                 \n",
      "[25]\tvalidation-rmse:6.59779                                                                 \n",
      "[26]\tvalidation-rmse:6.58811                                                                 \n",
      "[27]\tvalidation-rmse:6.58072                                                                 \n",
      "[28]\tvalidation-rmse:6.57395                                                                 \n",
      "[29]\tvalidation-rmse:6.56867                                                                 \n",
      "[30]\tvalidation-rmse:6.56392                                                                 \n",
      "[31]\tvalidation-rmse:6.56009                                                                 \n",
      "[32]\tvalidation-rmse:6.55526                                                                 \n",
      "[33]\tvalidation-rmse:6.55255                                                                 \n",
      "[34]\tvalidation-rmse:6.54919                                                                 \n",
      "[35]\tvalidation-rmse:6.54603                                                                 \n",
      "[36]\tvalidation-rmse:6.54346                                                                 \n",
      "[37]\tvalidation-rmse:6.54036                                                                 \n",
      "[38]\tvalidation-rmse:6.53761                                                                 \n",
      "[39]\tvalidation-rmse:6.53536                                                                 \n",
      "[40]\tvalidation-rmse:6.53344                                                                 \n",
      "[41]\tvalidation-rmse:6.53207                                                                 \n",
      "[42]\tvalidation-rmse:6.53111                                                                 \n",
      "[43]\tvalidation-rmse:6.52934                                                                 \n",
      "[44]\tvalidation-rmse:6.52767                                                                 \n",
      "[45]\tvalidation-rmse:6.52627                                                                 \n",
      "[46]\tvalidation-rmse:6.52487                                                                 \n",
      "[47]\tvalidation-rmse:6.52310                                                                 \n",
      "[48]\tvalidation-rmse:6.52182                                                                 \n",
      "[49]\tvalidation-rmse:6.52054                                                                 \n",
      "  0%|                                                 | 0/10 [01:07<?, ?trial/s, best loss=?]"
     ]
    },
    {
     "name": "stderr",
     "output_type": "stream",
     "text": [
      "/opt/conda/envs/mlflow_env/lib/python3.9/site-packages/xgboost/core.py:158: UserWarning: [22:06:14] WARNING: /workspace/src/c_api/c_api.cc:1374: Saving model in the UBJSON format as default.  You can use file extension: `json`, `ubj` or `deprecated` to choose between formats.\n",
      "  warnings.warn(smsg, UserWarning)\n",
      "\n",
      "\u001b[31m2025/03/19 22:06:19 WARNING mlflow.models.model: Model logged without a signature and input example. Please set `input_example` parameter when logging the model to auto infer the model signature.\u001b[0m\n",
      "\n"
     ]
    },
    {
     "name": "stdout",
     "output_type": "stream",
     "text": [
      " 10%|██▍                     | 1/10 [01:13<11:04, 73.81s/trial, best loss: 6.520541607598035]"
     ]
    },
    {
     "name": "stderr",
     "output_type": "stream",
     "text": [
      "/opt/conda/envs/mlflow_env/lib/python3.9/site-packages/xgboost/core.py:158: UserWarning: [22:06:19] WARNING: /workspace/src/objective/regression_obj.cu:227: reg:linear is now deprecated in favor of reg:squarederror.\n",
      "  warnings.warn(smsg, UserWarning)\n",
      "\n"
     ]
    },
    {
     "name": "stdout",
     "output_type": "stream",
     "text": [
      "[0]\tvalidation-rmse:7.55004                                                                  \n",
      "[1]\tvalidation-rmse:6.72080                                                                  \n",
      "[2]\tvalidation-rmse:6.56210                                                                  \n",
      "[3]\tvalidation-rmse:6.50399                                                                  \n",
      "[4]\tvalidation-rmse:6.47769                                                                  \n",
      "[5]\tvalidation-rmse:6.46800                                                                  \n",
      "[6]\tvalidation-rmse:6.46170                                                                  \n",
      "[7]\tvalidation-rmse:6.45349                                                                  \n",
      "[8]\tvalidation-rmse:6.44585                                                                  \n",
      "[9]\tvalidation-rmse:6.44219                                                                  \n",
      "[10]\tvalidation-rmse:6.43272                                                                 \n",
      "[11]\tvalidation-rmse:6.42891                                                                 \n",
      "[12]\tvalidation-rmse:6.42644                                                                 \n",
      "[13]\tvalidation-rmse:6.42190                                                                 \n",
      "[14]\tvalidation-rmse:6.41870                                                                 \n",
      "[15]\tvalidation-rmse:6.41518                                                                 \n",
      "[16]\tvalidation-rmse:6.41298                                                                 \n",
      "[17]\tvalidation-rmse:6.41035                                                                 \n",
      "[18]\tvalidation-rmse:6.40950                                                                 \n",
      "[19]\tvalidation-rmse:6.40843                                                                 \n",
      "[20]\tvalidation-rmse:6.40643                                                                 \n",
      "[21]\tvalidation-rmse:6.40148                                                                 \n",
      "[22]\tvalidation-rmse:6.39759                                                                 \n",
      "[23]\tvalidation-rmse:6.39677                                                                 \n",
      "[24]\tvalidation-rmse:6.39623                                                                 \n",
      "[25]\tvalidation-rmse:6.39521                                                                 \n",
      "[26]\tvalidation-rmse:6.39469                                                                 \n",
      "[27]\tvalidation-rmse:6.39325                                                                 \n",
      "[28]\tvalidation-rmse:6.39387                                                                 \n",
      "[29]\tvalidation-rmse:6.39363                                                                 \n",
      "[30]\tvalidation-rmse:6.39025                                                                 \n",
      "[31]\tvalidation-rmse:6.38883                                                                 \n",
      "[32]\tvalidation-rmse:6.38921                                                                 \n",
      "[33]\tvalidation-rmse:6.38816                                                                 \n",
      "[34]\tvalidation-rmse:6.38778                                                                 \n",
      "[35]\tvalidation-rmse:6.38654                                                                 \n",
      "[36]\tvalidation-rmse:6.38687                                                                 \n",
      "[37]\tvalidation-rmse:6.38615                                                                 \n",
      "[38]\tvalidation-rmse:6.38457                                                                 \n",
      "[39]\tvalidation-rmse:6.38591                                                                 \n",
      "[40]\tvalidation-rmse:6.38586                                                                 \n",
      "[41]\tvalidation-rmse:6.38460                                                                 \n",
      "[42]\tvalidation-rmse:6.38419                                                                 \n",
      "[43]\tvalidation-rmse:6.38286                                                                 \n",
      "[44]\tvalidation-rmse:6.38539                                                                 \n",
      "[45]\tvalidation-rmse:6.38581                                                                 \n",
      "[46]\tvalidation-rmse:6.38523                                                                 \n",
      "[47]\tvalidation-rmse:6.38409                                                                 \n",
      "[48]\tvalidation-rmse:6.38571                                                                 \n",
      "[49]\tvalidation-rmse:6.38506                                                                 \n",
      " 10%|██▍                     | 1/10 [01:34<11:04, 73.81s/trial, best loss: 6.520541607598035]"
     ]
    },
    {
     "name": "stderr",
     "output_type": "stream",
     "text": [
      "/opt/conda/envs/mlflow_env/lib/python3.9/site-packages/xgboost/core.py:158: UserWarning: [22:06:41] WARNING: /workspace/src/c_api/c_api.cc:1374: Saving model in the UBJSON format as default.  You can use file extension: `json`, `ubj` or `deprecated` to choose between formats.\n",
      "  warnings.warn(smsg, UserWarning)\n",
      "\n",
      "\u001b[31m2025/03/19 22:06:44 WARNING mlflow.models.model: Model logged without a signature and input example. Please set `input_example` parameter when logging the model to auto infer the model signature.\u001b[0m\n",
      "\n"
     ]
    },
    {
     "name": "stdout",
     "output_type": "stream",
     "text": [
      " 20%|████▊                   | 2/10 [01:38<05:57, 44.66s/trial, best loss: 6.385060067565677]"
     ]
    },
    {
     "name": "stderr",
     "output_type": "stream",
     "text": [
      "/opt/conda/envs/mlflow_env/lib/python3.9/site-packages/xgboost/core.py:158: UserWarning: [22:06:44] WARNING: /workspace/src/objective/regression_obj.cu:227: reg:linear is now deprecated in favor of reg:squarederror.\n",
      "  warnings.warn(smsg, UserWarning)\n",
      "\n"
     ]
    },
    {
     "name": "stdout",
     "output_type": "stream",
     "text": [
      "[0]\tvalidation-rmse:9.72924                                                                  \n",
      "[1]\tvalidation-rmse:8.29021                                                                  \n",
      "[2]\tvalidation-rmse:7.49467                                                                  \n",
      "[3]\tvalidation-rmse:7.06614                                                                  \n",
      "[4]\tvalidation-rmse:6.83316                                                                  \n",
      "[5]\tvalidation-rmse:6.70506                                                                  \n",
      "[6]\tvalidation-rmse:6.62811                                                                  \n",
      "[7]\tvalidation-rmse:6.58155                                                                  \n",
      "[8]\tvalidation-rmse:6.55187                                                                  \n",
      "[9]\tvalidation-rmse:6.53518                                                                  \n",
      "[10]\tvalidation-rmse:6.52072                                                                 \n",
      "[11]\tvalidation-rmse:6.51199                                                                 \n",
      "[12]\tvalidation-rmse:6.50325                                                                 \n",
      "[13]\tvalidation-rmse:6.49582                                                                 \n",
      "[14]\tvalidation-rmse:6.49207                                                                 \n",
      "[15]\tvalidation-rmse:6.48706                                                                 \n",
      "[16]\tvalidation-rmse:6.48422                                                                 \n",
      "[17]\tvalidation-rmse:6.47840                                                                 \n",
      "[18]\tvalidation-rmse:6.47622                                                                 \n",
      "[19]\tvalidation-rmse:6.47409                                                                 \n",
      "[20]\tvalidation-rmse:6.47206                                                                 \n",
      "[21]\tvalidation-rmse:6.46973                                                                 \n",
      "[22]\tvalidation-rmse:6.46693                                                                 \n",
      "[23]\tvalidation-rmse:6.46454                                                                 \n",
      "[24]\tvalidation-rmse:6.46227                                                                 \n",
      "[25]\tvalidation-rmse:6.46040                                                                 \n",
      "[26]\tvalidation-rmse:6.45806                                                                 \n",
      "[27]\tvalidation-rmse:6.45569                                                                 \n",
      "[28]\tvalidation-rmse:6.45405                                                                 \n",
      "[29]\tvalidation-rmse:6.45222                                                                 \n",
      "[30]\tvalidation-rmse:6.44876                                                                 \n",
      "[31]\tvalidation-rmse:6.44767                                                                 \n",
      "[32]\tvalidation-rmse:6.44502                                                                 \n",
      "[33]\tvalidation-rmse:6.44370                                                                 \n",
      "[34]\tvalidation-rmse:6.44235                                                                 \n",
      "[35]\tvalidation-rmse:6.44018                                                                 \n",
      "[36]\tvalidation-rmse:6.43902                                                                 \n",
      "[37]\tvalidation-rmse:6.43760                                                                 \n",
      "[38]\tvalidation-rmse:6.43648                                                                 \n",
      "[39]\tvalidation-rmse:6.43383                                                                 \n",
      "[40]\tvalidation-rmse:6.43306                                                                 \n",
      "[41]\tvalidation-rmse:6.43194                                                                 \n",
      "[42]\tvalidation-rmse:6.43028                                                                 \n",
      "[43]\tvalidation-rmse:6.42805                                                                 \n",
      "[44]\tvalidation-rmse:6.42662                                                                 \n",
      "[45]\tvalidation-rmse:6.42596                                                                 \n",
      "[46]\tvalidation-rmse:6.42489                                                                 \n",
      "[47]\tvalidation-rmse:6.42419                                                                 \n",
      "[48]\tvalidation-rmse:6.42360                                                                 \n",
      "[49]\tvalidation-rmse:6.42308                                                                 \n",
      " 20%|████▊                   | 2/10 [01:53<05:57, 44.66s/trial, best loss: 6.385060067565677]"
     ]
    },
    {
     "name": "stderr",
     "output_type": "stream",
     "text": [
      "/opt/conda/envs/mlflow_env/lib/python3.9/site-packages/xgboost/core.py:158: UserWarning: [22:06:59] WARNING: /workspace/src/c_api/c_api.cc:1374: Saving model in the UBJSON format as default.  You can use file extension: `json`, `ubj` or `deprecated` to choose between formats.\n",
      "  warnings.warn(smsg, UserWarning)\n",
      "\n",
      "\u001b[31m2025/03/19 22:07:02 WARNING mlflow.models.model: Model logged without a signature and input example. Please set `input_example` parameter when logging the model to auto infer the model signature.\u001b[0m\n",
      "\n"
     ]
    },
    {
     "name": "stdout",
     "output_type": "stream",
     "text": [
      " 30%|███████▏                | 3/10 [01:56<03:49, 32.85s/trial, best loss: 6.385060067565677]"
     ]
    },
    {
     "name": "stderr",
     "output_type": "stream",
     "text": [
      "/opt/conda/envs/mlflow_env/lib/python3.9/site-packages/xgboost/core.py:158: UserWarning: [22:07:02] WARNING: /workspace/src/objective/regression_obj.cu:227: reg:linear is now deprecated in favor of reg:squarederror.\n",
      "  warnings.warn(smsg, UserWarning)\n",
      "\n"
     ]
    },
    {
     "name": "stdout",
     "output_type": "stream",
     "text": [
      "[0]\tvalidation-rmse:11.71704                                                                 \n",
      "[1]\tvalidation-rmse:11.26114                                                                 \n",
      "[2]\tvalidation-rmse:10.84154                                                                 \n",
      "[3]\tvalidation-rmse:10.45693                                                                 \n",
      "[4]\tvalidation-rmse:10.10459                                                                 \n",
      "[5]\tvalidation-rmse:9.78221                                                                  \n",
      "[6]\tvalidation-rmse:9.48737                                                                  \n",
      "[7]\tvalidation-rmse:9.21817                                                                  \n",
      "[8]\tvalidation-rmse:8.97217                                                                  \n",
      "[9]\tvalidation-rmse:8.74936                                                                  \n",
      "[10]\tvalidation-rmse:8.54654                                                                 \n",
      "[11]\tvalidation-rmse:8.36278                                                                 \n",
      "[12]\tvalidation-rmse:8.19472                                                                 \n",
      "[13]\tvalidation-rmse:8.04365                                                                 \n",
      "[14]\tvalidation-rmse:7.90706                                                                 \n",
      "[15]\tvalidation-rmse:7.78341                                                                 \n",
      "[16]\tvalidation-rmse:7.67165                                                                 \n",
      "[17]\tvalidation-rmse:7.57048                                                                 \n",
      "[18]\tvalidation-rmse:7.47893                                                                 \n",
      "[19]\tvalidation-rmse:7.39604                                                                 \n",
      "[20]\tvalidation-rmse:7.32112                                                                 \n",
      "[21]\tvalidation-rmse:7.25432                                                                 \n",
      "[22]\tvalidation-rmse:7.19328                                                                 \n",
      "[23]\tvalidation-rmse:7.13874                                                                 \n",
      "[24]\tvalidation-rmse:7.08948                                                                 \n",
      "[25]\tvalidation-rmse:7.04440                                                                 \n",
      "[26]\tvalidation-rmse:7.00327                                                                 \n",
      "[27]\tvalidation-rmse:6.96640                                                                 \n",
      "[28]\tvalidation-rmse:6.93344                                                                 \n",
      "[29]\tvalidation-rmse:6.90286                                                                 \n",
      "[30]\tvalidation-rmse:6.87546                                                                 \n",
      "[31]\tvalidation-rmse:6.85058                                                                 \n",
      "[32]\tvalidation-rmse:6.82713                                                                 \n",
      "[33]\tvalidation-rmse:6.80612                                                                 \n",
      "[34]\tvalidation-rmse:6.78726                                                                 \n",
      "[35]\tvalidation-rmse:6.76973                                                                 \n",
      "[36]\tvalidation-rmse:6.75395                                                                 \n",
      "[37]\tvalidation-rmse:6.73939                                                                 \n",
      "[38]\tvalidation-rmse:6.72597                                                                 \n",
      "[39]\tvalidation-rmse:6.71393                                                                 \n",
      "[40]\tvalidation-rmse:6.70289                                                                 \n",
      "[41]\tvalidation-rmse:6.69191                                                                 \n",
      "[42]\tvalidation-rmse:6.68278                                                                 \n",
      "[43]\tvalidation-rmse:6.67437                                                                 \n",
      "[44]\tvalidation-rmse:6.66625                                                                 \n",
      "[45]\tvalidation-rmse:6.65875                                                                 \n",
      "[46]\tvalidation-rmse:6.65174                                                                 \n",
      "[47]\tvalidation-rmse:6.64538                                                                 \n",
      "[48]\tvalidation-rmse:6.63920                                                                 \n",
      "[49]\tvalidation-rmse:6.63385                                                                 \n",
      " 30%|███████▏                | 3/10 [02:21<03:49, 32.85s/trial, best loss: 6.385060067565677]"
     ]
    },
    {
     "name": "stderr",
     "output_type": "stream",
     "text": [
      "/opt/conda/envs/mlflow_env/lib/python3.9/site-packages/xgboost/core.py:158: UserWarning: [22:07:28] WARNING: /workspace/src/c_api/c_api.cc:1374: Saving model in the UBJSON format as default.  You can use file extension: `json`, `ubj` or `deprecated` to choose between formats.\n",
      "  warnings.warn(smsg, UserWarning)\n",
      "\n",
      "\u001b[31m2025/03/19 22:07:31 WARNING mlflow.models.model: Model logged without a signature and input example. Please set `input_example` parameter when logging the model to auto infer the model signature.\u001b[0m\n",
      "\n"
     ]
    },
    {
     "name": "stdout",
     "output_type": "stream",
     "text": [
      " 40%|█████████▌              | 4/10 [02:25<03:06, 31.13s/trial, best loss: 6.385060067565677]"
     ]
    },
    {
     "name": "stderr",
     "output_type": "stream",
     "text": [
      "/opt/conda/envs/mlflow_env/lib/python3.9/site-packages/xgboost/core.py:158: UserWarning: [22:07:31] WARNING: /workspace/src/objective/regression_obj.cu:227: reg:linear is now deprecated in favor of reg:squarederror.\n",
      "  warnings.warn(smsg, UserWarning)\n",
      "\n"
     ]
    },
    {
     "name": "stdout",
     "output_type": "stream",
     "text": [
      "[0]\tvalidation-rmse:10.08167                                                                 \n",
      "[1]\tvalidation-rmse:8.73778                                                                  \n",
      "[2]\tvalidation-rmse:7.91948                                                                  \n",
      "[3]\tvalidation-rmse:7.43324                                                                  \n",
      "[4]\tvalidation-rmse:7.14847                                                                  \n",
      "[5]\tvalidation-rmse:6.98112                                                                  \n",
      "[6]\tvalidation-rmse:6.87849                                                                  \n",
      "[7]\tvalidation-rmse:6.81399                                                                  \n",
      "[8]\tvalidation-rmse:6.77437                                                                  \n",
      "[9]\tvalidation-rmse:6.74670                                                                  \n",
      "[10]\tvalidation-rmse:6.72814                                                                 \n",
      "[11]\tvalidation-rmse:6.71298                                                                 \n",
      "[12]\tvalidation-rmse:6.70124                                                                 \n",
      "[13]\tvalidation-rmse:6.69373                                                                 \n",
      "[14]\tvalidation-rmse:6.68861                                                                 \n",
      "[15]\tvalidation-rmse:6.68462                                                                 \n",
      "[16]\tvalidation-rmse:6.68139                                                                 \n",
      "[17]\tvalidation-rmse:6.67903                                                                 \n",
      "[18]\tvalidation-rmse:6.67801                                                                 \n",
      "[19]\tvalidation-rmse:6.67678                                                                 \n",
      "[20]\tvalidation-rmse:6.67477                                                                 \n",
      "[21]\tvalidation-rmse:6.67342                                                                 \n",
      "[22]\tvalidation-rmse:6.67198                                                                 \n",
      "[23]\tvalidation-rmse:6.67109                                                                 \n",
      "[24]\tvalidation-rmse:6.67017                                                                 \n",
      "[25]\tvalidation-rmse:6.66870                                                                 \n",
      "[26]\tvalidation-rmse:6.66820                                                                 \n",
      "[27]\tvalidation-rmse:6.66747                                                                 \n",
      "[28]\tvalidation-rmse:6.66694                                                                 \n",
      "[29]\tvalidation-rmse:6.66586                                                                 \n",
      "[30]\tvalidation-rmse:6.66497                                                                 \n",
      "[31]\tvalidation-rmse:6.66363                                                                 \n",
      "[32]\tvalidation-rmse:6.66339                                                                 \n",
      "[33]\tvalidation-rmse:6.66256                                                                 \n",
      "[34]\tvalidation-rmse:6.66183                                                                 \n",
      "[35]\tvalidation-rmse:6.66101                                                                 \n",
      "[36]\tvalidation-rmse:6.66052                                                                 \n",
      "[37]\tvalidation-rmse:6.66001                                                                 \n",
      "[38]\tvalidation-rmse:6.65952                                                                 \n",
      "[39]\tvalidation-rmse:6.65908                                                                 \n",
      "[40]\tvalidation-rmse:6.65875                                                                 \n",
      "[41]\tvalidation-rmse:6.65758                                                                 \n",
      "[42]\tvalidation-rmse:6.65651                                                                 \n",
      "[43]\tvalidation-rmse:6.65620                                                                 \n",
      "[44]\tvalidation-rmse:6.65552                                                                 \n",
      "[45]\tvalidation-rmse:6.65494                                                                 \n",
      "[46]\tvalidation-rmse:6.65456                                                                 \n",
      "[47]\tvalidation-rmse:6.65463                                                                 \n",
      "[48]\tvalidation-rmse:6.65410                                                                 \n",
      "[49]\tvalidation-rmse:6.65295                                                                 \n",
      " 40%|█████████▌              | 4/10 [02:33<03:06, 31.13s/trial, best loss: 6.385060067565677]"
     ]
    },
    {
     "name": "stderr",
     "output_type": "stream",
     "text": [
      "/opt/conda/envs/mlflow_env/lib/python3.9/site-packages/xgboost/core.py:158: UserWarning: [22:07:40] WARNING: /workspace/src/c_api/c_api.cc:1374: Saving model in the UBJSON format as default.  You can use file extension: `json`, `ubj` or `deprecated` to choose between formats.\n",
      "  warnings.warn(smsg, UserWarning)\n",
      "\n",
      "\u001b[31m2025/03/19 22:07:43 WARNING mlflow.models.model: Model logged without a signature and input example. Please set `input_example` parameter when logging the model to auto infer the model signature.\u001b[0m\n",
      "\n"
     ]
    },
    {
     "name": "stdout",
     "output_type": "stream",
     "text": [
      " 50%|████████████            | 5/10 [02:37<02:01, 24.20s/trial, best loss: 6.385060067565677]"
     ]
    },
    {
     "name": "stderr",
     "output_type": "stream",
     "text": [
      "/opt/conda/envs/mlflow_env/lib/python3.9/site-packages/xgboost/core.py:158: UserWarning: [22:07:43] WARNING: /workspace/src/objective/regression_obj.cu:227: reg:linear is now deprecated in favor of reg:squarederror.\n",
      "  warnings.warn(smsg, UserWarning)\n",
      "\n"
     ]
    },
    {
     "name": "stdout",
     "output_type": "stream",
     "text": [
      "[0]\tvalidation-rmse:7.17094                                                                  \n",
      "[1]\tvalidation-rmse:6.70872                                                                  \n",
      "[2]\tvalidation-rmse:6.62491                                                                  \n",
      "[3]\tvalidation-rmse:6.60138                                                                  \n",
      "[4]\tvalidation-rmse:6.59061                                                                  \n",
      "[5]\tvalidation-rmse:6.58346                                                                  \n",
      "[6]\tvalidation-rmse:6.57669                                                                  \n",
      "[7]\tvalidation-rmse:6.56105                                                                  \n",
      "[8]\tvalidation-rmse:6.55618                                                                  \n",
      "[9]\tvalidation-rmse:6.55245                                                                  \n",
      "[10]\tvalidation-rmse:6.54829                                                                 \n",
      "[11]\tvalidation-rmse:6.54428                                                                 \n",
      "[12]\tvalidation-rmse:6.54192                                                                 \n",
      "[13]\tvalidation-rmse:6.53576                                                                 \n",
      "[14]\tvalidation-rmse:6.53573                                                                 \n",
      "[15]\tvalidation-rmse:6.53170                                                                 \n",
      "[16]\tvalidation-rmse:6.52979                                                                 \n",
      "[17]\tvalidation-rmse:6.52924                                                                 \n",
      "[18]\tvalidation-rmse:6.52810                                                                 \n",
      "[19]\tvalidation-rmse:6.52426                                                                 \n",
      "[20]\tvalidation-rmse:6.52167                                                                 \n",
      "[21]\tvalidation-rmse:6.52026                                                                 \n",
      "[22]\tvalidation-rmse:6.51952                                                                 \n",
      "[23]\tvalidation-rmse:6.51764                                                                 \n",
      "[24]\tvalidation-rmse:6.51707                                                                 \n",
      "[25]\tvalidation-rmse:6.51570                                                                 \n",
      "[26]\tvalidation-rmse:6.51389                                                                 \n",
      "[27]\tvalidation-rmse:6.51466                                                                 \n",
      "[28]\tvalidation-rmse:6.51111                                                                 \n",
      "[29]\tvalidation-rmse:6.51013                                                                 \n",
      "[30]\tvalidation-rmse:6.51001                                                                 \n",
      "[31]\tvalidation-rmse:6.50980                                                                 \n",
      "[32]\tvalidation-rmse:6.50860                                                                 \n",
      "[33]\tvalidation-rmse:6.50825                                                                 \n",
      "[34]\tvalidation-rmse:6.50714                                                                 \n",
      "[35]\tvalidation-rmse:6.50630                                                                 \n",
      "[36]\tvalidation-rmse:6.50624                                                                 \n",
      "[37]\tvalidation-rmse:6.50455                                                                 \n",
      "[38]\tvalidation-rmse:6.50379                                                                 \n",
      "[39]\tvalidation-rmse:6.50341                                                                 \n",
      "[40]\tvalidation-rmse:6.50288                                                                 \n",
      "[41]\tvalidation-rmse:6.50311                                                                 \n",
      "[42]\tvalidation-rmse:6.50264                                                                 \n",
      "[43]\tvalidation-rmse:6.50169                                                                 \n",
      "[44]\tvalidation-rmse:6.50239                                                                 \n",
      "[45]\tvalidation-rmse:6.50218                                                                 \n",
      "[46]\tvalidation-rmse:6.50144                                                                 \n",
      "[47]\tvalidation-rmse:6.49987                                                                 \n",
      "[48]\tvalidation-rmse:6.49953                                                                 \n",
      "[49]\tvalidation-rmse:6.49833                                                                 \n",
      " 50%|████████████            | 5/10 [02:46<02:01, 24.20s/trial, best loss: 6.385060067565677]"
     ]
    },
    {
     "name": "stderr",
     "output_type": "stream",
     "text": [
      "/opt/conda/envs/mlflow_env/lib/python3.9/site-packages/xgboost/core.py:158: UserWarning: [22:07:52] WARNING: /workspace/src/c_api/c_api.cc:1374: Saving model in the UBJSON format as default.  You can use file extension: `json`, `ubj` or `deprecated` to choose between formats.\n",
      "  warnings.warn(smsg, UserWarning)\n",
      "\n",
      "\u001b[31m2025/03/19 22:07:55 WARNING mlflow.models.model: Model logged without a signature and input example. Please set `input_example` parameter when logging the model to auto infer the model signature.\u001b[0m\n",
      "\n"
     ]
    },
    {
     "name": "stdout",
     "output_type": "stream",
     "text": [
      " 60%|██████████████▍         | 6/10 [02:49<01:20, 20.18s/trial, best loss: 6.385060067565677]"
     ]
    },
    {
     "name": "stderr",
     "output_type": "stream",
     "text": [
      "/opt/conda/envs/mlflow_env/lib/python3.9/site-packages/xgboost/core.py:158: UserWarning: [22:07:55] WARNING: /workspace/src/objective/regression_obj.cu:227: reg:linear is now deprecated in favor of reg:squarederror.\n",
      "  warnings.warn(smsg, UserWarning)\n",
      "\n"
     ]
    },
    {
     "name": "stdout",
     "output_type": "stream",
     "text": [
      "[0]\tvalidation-rmse:6.76962                                                                  \n",
      "[1]\tvalidation-rmse:6.58849                                                                  \n",
      "[2]\tvalidation-rmse:6.55715                                                                  \n",
      "[3]\tvalidation-rmse:6.54244                                                                  \n",
      "[4]\tvalidation-rmse:6.52551                                                                  \n",
      "[5]\tvalidation-rmse:6.51903                                                                  \n",
      "[6]\tvalidation-rmse:6.50597                                                                  \n",
      "[7]\tvalidation-rmse:6.49796                                                                  \n",
      "[8]\tvalidation-rmse:6.48576                                                                  \n",
      "[9]\tvalidation-rmse:6.48152                                                                  \n",
      "[10]\tvalidation-rmse:6.47478                                                                 \n",
      "[11]\tvalidation-rmse:6.47065                                                                 \n",
      "[12]\tvalidation-rmse:6.46757                                                                 \n",
      "[13]\tvalidation-rmse:6.46589                                                                 \n",
      "[14]\tvalidation-rmse:6.46344                                                                 \n",
      "[15]\tvalidation-rmse:6.45757                                                                 \n",
      "[16]\tvalidation-rmse:6.45795                                                                 \n",
      "[17]\tvalidation-rmse:6.45608                                                                 \n",
      "[18]\tvalidation-rmse:6.45440                                                                 \n",
      "[19]\tvalidation-rmse:6.45166                                                                 \n",
      "[20]\tvalidation-rmse:6.44798                                                                 \n",
      "[21]\tvalidation-rmse:6.44814                                                                 \n",
      "[22]\tvalidation-rmse:6.44580                                                                 \n",
      "[23]\tvalidation-rmse:6.44086                                                                 \n",
      "[24]\tvalidation-rmse:6.44319                                                                 \n",
      "[25]\tvalidation-rmse:6.44137                                                                 \n",
      "[26]\tvalidation-rmse:6.44270                                                                 \n",
      "[27]\tvalidation-rmse:6.44046                                                                 \n",
      "[28]\tvalidation-rmse:6.43965                                                                 \n",
      "[29]\tvalidation-rmse:6.43838                                                                 \n",
      "[30]\tvalidation-rmse:6.43742                                                                 \n",
      "[31]\tvalidation-rmse:6.43540                                                                 \n",
      "[32]\tvalidation-rmse:6.43724                                                                 \n",
      "[33]\tvalidation-rmse:6.43847                                                                 \n",
      "[34]\tvalidation-rmse:6.43666                                                                 \n",
      "[35]\tvalidation-rmse:6.43713                                                                 \n",
      "[36]\tvalidation-rmse:6.43782                                                                 \n",
      "[37]\tvalidation-rmse:6.44000                                                                 \n",
      "[38]\tvalidation-rmse:6.43860                                                                 \n",
      "[39]\tvalidation-rmse:6.43839                                                                 \n",
      "[40]\tvalidation-rmse:6.43755                                                                 \n",
      "[41]\tvalidation-rmse:6.43803                                                                 \n",
      "[42]\tvalidation-rmse:6.43832                                                                 \n",
      "[43]\tvalidation-rmse:6.43674                                                                 \n",
      "[44]\tvalidation-rmse:6.43540                                                                 \n",
      "[45]\tvalidation-rmse:6.43564                                                                 \n",
      "[46]\tvalidation-rmse:6.43535                                                                 \n",
      "[47]\tvalidation-rmse:6.43534                                                                 \n",
      "[48]\tvalidation-rmse:6.43429                                                                 \n",
      "[49]\tvalidation-rmse:6.43467                                                                 \n",
      " 60%|██████████████▍         | 6/10 [03:04<01:20, 20.18s/trial, best loss: 6.385060067565677]"
     ]
    },
    {
     "name": "stderr",
     "output_type": "stream",
     "text": [
      "/opt/conda/envs/mlflow_env/lib/python3.9/site-packages/xgboost/core.py:158: UserWarning: [22:08:10] WARNING: /workspace/src/c_api/c_api.cc:1374: Saving model in the UBJSON format as default.  You can use file extension: `json`, `ubj` or `deprecated` to choose between formats.\n",
      "  warnings.warn(smsg, UserWarning)\n",
      "\n",
      "\u001b[31m2025/03/19 22:08:13 WARNING mlflow.models.model: Model logged without a signature and input example. Please set `input_example` parameter when logging the model to auto infer the model signature.\u001b[0m\n",
      "\n"
     ]
    },
    {
     "name": "stdout",
     "output_type": "stream",
     "text": [
      " 70%|████████████████▊       | 7/10 [03:07<00:58, 19.47s/trial, best loss: 6.385060067565677]"
     ]
    },
    {
     "name": "stderr",
     "output_type": "stream",
     "text": [
      "/opt/conda/envs/mlflow_env/lib/python3.9/site-packages/xgboost/core.py:158: UserWarning: [22:08:13] WARNING: /workspace/src/objective/regression_obj.cu:227: reg:linear is now deprecated in favor of reg:squarederror.\n",
      "  warnings.warn(smsg, UserWarning)\n",
      "\n"
     ]
    },
    {
     "name": "stdout",
     "output_type": "stream",
     "text": [
      "[0]\tvalidation-rmse:9.55619                                                                  \n",
      "[1]\tvalidation-rmse:8.08001                                                                  \n",
      "[2]\tvalidation-rmse:7.30281                                                                  \n",
      "[3]\tvalidation-rmse:6.90230                                                                  \n",
      "[4]\tvalidation-rmse:6.69295                                                                  \n",
      "[5]\tvalidation-rmse:6.58623                                                                  \n",
      "[6]\tvalidation-rmse:6.52587                                                                  \n",
      "[7]\tvalidation-rmse:6.48547                                                                  \n",
      "[8]\tvalidation-rmse:6.46308                                                                  \n",
      "[9]\tvalidation-rmse:6.44478                                                                  \n",
      "[10]\tvalidation-rmse:6.43243                                                                 \n",
      "[11]\tvalidation-rmse:6.42437                                                                 \n",
      "[12]\tvalidation-rmse:6.41938                                                                 \n",
      "[13]\tvalidation-rmse:6.41554                                                                 \n",
      "[14]\tvalidation-rmse:6.41211                                                                 \n",
      "[15]\tvalidation-rmse:6.40964                                                                 \n",
      "[16]\tvalidation-rmse:6.40722                                                                 \n",
      "[17]\tvalidation-rmse:6.40439                                                                 \n",
      "[18]\tvalidation-rmse:6.40017                                                                 \n",
      "[19]\tvalidation-rmse:6.39559                                                                 \n",
      "[20]\tvalidation-rmse:6.39378                                                                 \n",
      "[21]\tvalidation-rmse:6.39199                                                                 \n",
      "[22]\tvalidation-rmse:6.38976                                                                 \n",
      "[23]\tvalidation-rmse:6.38802                                                                 \n",
      "[24]\tvalidation-rmse:6.38567                                                                 \n",
      "[25]\tvalidation-rmse:6.38383                                                                 \n",
      "[26]\tvalidation-rmse:6.38120                                                                 \n",
      "[27]\tvalidation-rmse:6.37957                                                                 \n",
      "[28]\tvalidation-rmse:6.37923                                                                 \n",
      "[29]\tvalidation-rmse:6.37768                                                                 \n",
      "[30]\tvalidation-rmse:6.37612                                                                 \n",
      "[31]\tvalidation-rmse:6.37412                                                                 \n",
      "[32]\tvalidation-rmse:6.37313                                                                 \n",
      "[33]\tvalidation-rmse:6.37184                                                                 \n",
      "[34]\tvalidation-rmse:6.37097                                                                 \n",
      "[35]\tvalidation-rmse:6.37031                                                                 \n",
      "[36]\tvalidation-rmse:6.36867                                                                 \n",
      "[37]\tvalidation-rmse:6.36786                                                                 \n",
      "[38]\tvalidation-rmse:6.36654                                                                 \n",
      "[39]\tvalidation-rmse:6.36483                                                                 \n",
      "[40]\tvalidation-rmse:6.36452                                                                 \n",
      "[41]\tvalidation-rmse:6.36259                                                                 \n",
      "[42]\tvalidation-rmse:6.36155                                                                 \n",
      "[43]\tvalidation-rmse:6.36006                                                                 \n",
      "[44]\tvalidation-rmse:6.35904                                                                 \n",
      "[45]\tvalidation-rmse:6.35928                                                                 \n",
      "[46]\tvalidation-rmse:6.35910                                                                 \n",
      "[47]\tvalidation-rmse:6.35619                                                                 \n",
      "[48]\tvalidation-rmse:6.35601                                                                 \n",
      "[49]\tvalidation-rmse:6.35592                                                                 \n",
      " 70%|████████████████▊       | 7/10 [03:50<00:58, 19.47s/trial, best loss: 6.385060067565677]"
     ]
    },
    {
     "name": "stderr",
     "output_type": "stream",
     "text": [
      "/opt/conda/envs/mlflow_env/lib/python3.9/site-packages/xgboost/core.py:158: UserWarning: [22:08:57] WARNING: /workspace/src/c_api/c_api.cc:1374: Saving model in the UBJSON format as default.  You can use file extension: `json`, `ubj` or `deprecated` to choose between formats.\n",
      "  warnings.warn(smsg, UserWarning)\n",
      "\n",
      "\u001b[31m2025/03/19 22:09:00 WARNING mlflow.models.model: Model logged without a signature and input example. Please set `input_example` parameter when logging the model to auto infer the model signature.\u001b[0m\n",
      "\n"
     ]
    },
    {
     "name": "stdout",
     "output_type": "stream",
     "text": [
      " 80%|████████████████████▊     | 8/10 [03:54<00:56, 28.32s/trial, best loss: 6.3559243555761]"
     ]
    },
    {
     "name": "stderr",
     "output_type": "stream",
     "text": [
      "/opt/conda/envs/mlflow_env/lib/python3.9/site-packages/xgboost/core.py:158: UserWarning: [22:09:00] WARNING: /workspace/src/objective/regression_obj.cu:227: reg:linear is now deprecated in favor of reg:squarederror.\n",
      "  warnings.warn(smsg, UserWarning)\n",
      "\n"
     ]
    },
    {
     "name": "stdout",
     "output_type": "stream",
     "text": [
      "[0]\tvalidation-rmse:10.38692                                                                 \n",
      "[1]\tvalidation-rmse:9.11741                                                                  \n",
      "[2]\tvalidation-rmse:8.26108                                                                  \n",
      "[3]\tvalidation-rmse:7.69171                                                                  \n",
      "[4]\tvalidation-rmse:7.31721                                                                  \n",
      "[5]\tvalidation-rmse:7.07249                                                                  \n",
      "[6]\tvalidation-rmse:6.90907                                                                  \n",
      "[7]\tvalidation-rmse:6.80046                                                                  \n",
      "[8]\tvalidation-rmse:6.72646                                                                  \n",
      "[9]\tvalidation-rmse:6.67390                                                                  \n",
      "[10]\tvalidation-rmse:6.63393                                                                 \n",
      "[11]\tvalidation-rmse:6.60849                                                                 \n",
      "[12]\tvalidation-rmse:6.58682                                                                 \n",
      "[13]\tvalidation-rmse:6.56991                                                                 \n",
      "[14]\tvalidation-rmse:6.55888                                                                 \n",
      "[15]\tvalidation-rmse:6.55102                                                                 \n",
      "[16]\tvalidation-rmse:6.54501                                                                 \n",
      "[17]\tvalidation-rmse:6.53963                                                                 \n",
      "[18]\tvalidation-rmse:6.53624                                                                 \n",
      "[19]\tvalidation-rmse:6.53325                                                                 \n",
      "[20]\tvalidation-rmse:6.53210                                                                 \n",
      "[21]\tvalidation-rmse:6.53014                                                                 \n",
      "[22]\tvalidation-rmse:6.52666                                                                 \n",
      "[23]\tvalidation-rmse:6.52413                                                                 \n",
      "[24]\tvalidation-rmse:6.52113                                                                 \n",
      "[25]\tvalidation-rmse:6.51945                                                                 \n",
      "[26]\tvalidation-rmse:6.51702                                                                 \n",
      "[27]\tvalidation-rmse:6.51377                                                                 \n",
      "[28]\tvalidation-rmse:6.51259                                                                 \n",
      "[29]\tvalidation-rmse:6.51073                                                                 \n",
      "[30]\tvalidation-rmse:6.50901                                                                 \n",
      "[31]\tvalidation-rmse:6.50554                                                                 \n",
      "[32]\tvalidation-rmse:6.50346                                                                 \n",
      "[33]\tvalidation-rmse:6.50187                                                                 \n",
      "[34]\tvalidation-rmse:6.50069                                                                 \n",
      "[35]\tvalidation-rmse:6.49833                                                                 \n",
      "[36]\tvalidation-rmse:6.49599                                                                 \n",
      "[37]\tvalidation-rmse:6.49458                                                                 \n",
      "[38]\tvalidation-rmse:6.49303                                                                 \n",
      "[39]\tvalidation-rmse:6.49100                                                                 \n",
      "[40]\tvalidation-rmse:6.48973                                                                 \n",
      "[41]\tvalidation-rmse:6.48771                                                                 \n",
      "[42]\tvalidation-rmse:6.48580                                                                 \n",
      "[43]\tvalidation-rmse:6.48390                                                                 \n",
      "[44]\tvalidation-rmse:6.48257                                                                 \n",
      "[45]\tvalidation-rmse:6.48073                                                                 \n",
      "[46]\tvalidation-rmse:6.47954                                                                 \n",
      "[47]\tvalidation-rmse:6.47790                                                                 \n",
      "[48]\tvalidation-rmse:6.47637                                                                 \n",
      "[49]\tvalidation-rmse:6.47519                                                                 \n",
      " 80%|████████████████████▊     | 8/10 [04:10<00:56, 28.32s/trial, best loss: 6.3559243555761]"
     ]
    },
    {
     "name": "stderr",
     "output_type": "stream",
     "text": [
      "/opt/conda/envs/mlflow_env/lib/python3.9/site-packages/xgboost/core.py:158: UserWarning: [22:09:16] WARNING: /workspace/src/c_api/c_api.cc:1374: Saving model in the UBJSON format as default.  You can use file extension: `json`, `ubj` or `deprecated` to choose between formats.\n",
      "  warnings.warn(smsg, UserWarning)\n",
      "\n",
      "\u001b[31m2025/03/19 22:09:19 WARNING mlflow.models.model: Model logged without a signature and input example. Please set `input_example` parameter when logging the model to auto infer the model signature.\u001b[0m\n",
      "\n"
     ]
    },
    {
     "name": "stdout",
     "output_type": "stream",
     "text": [
      " 90%|███████████████████████▍  | 9/10 [04:13<00:25, 25.32s/trial, best loss: 6.3559243555761]"
     ]
    },
    {
     "name": "stderr",
     "output_type": "stream",
     "text": [
      "/opt/conda/envs/mlflow_env/lib/python3.9/site-packages/xgboost/core.py:158: UserWarning: [22:09:19] WARNING: /workspace/src/objective/regression_obj.cu:227: reg:linear is now deprecated in favor of reg:squarederror.\n",
      "  warnings.warn(smsg, UserWarning)\n",
      "\n"
     ]
    },
    {
     "name": "stdout",
     "output_type": "stream",
     "text": [
      "[0]\tvalidation-rmse:9.31573                                                                  \n",
      "[1]\tvalidation-rmse:7.91418                                                                  \n",
      "[2]\tvalidation-rmse:7.27818                                                                  \n",
      "[3]\tvalidation-rmse:6.99363                                                                  \n",
      "[4]\tvalidation-rmse:6.86013                                                                  \n",
      "[5]\tvalidation-rmse:6.78886                                                                  \n",
      "[6]\tvalidation-rmse:6.74954                                                                  \n",
      "[7]\tvalidation-rmse:6.72639                                                                  \n",
      "[8]\tvalidation-rmse:6.70606                                                                  \n",
      "[9]\tvalidation-rmse:6.69219                                                                  \n",
      "[10]\tvalidation-rmse:6.68523                                                                 \n",
      "[11]\tvalidation-rmse:6.68065                                                                 \n",
      "[12]\tvalidation-rmse:6.67858                                                                 \n",
      "[13]\tvalidation-rmse:6.67696                                                                 \n",
      "[14]\tvalidation-rmse:6.67657                                                                 \n",
      "[15]\tvalidation-rmse:6.67535                                                                 \n",
      "[16]\tvalidation-rmse:6.67519                                                                 \n",
      "[17]\tvalidation-rmse:6.67437                                                                 \n",
      "[18]\tvalidation-rmse:6.67400                                                                 \n",
      "[19]\tvalidation-rmse:6.67280                                                                 \n",
      "[20]\tvalidation-rmse:6.67223                                                                 \n",
      "[21]\tvalidation-rmse:6.67121                                                                 \n",
      "[22]\tvalidation-rmse:6.67020                                                                 \n",
      "[23]\tvalidation-rmse:6.66932                                                                 \n",
      "[24]\tvalidation-rmse:6.66928                                                                 \n",
      "[25]\tvalidation-rmse:6.66762                                                                 \n",
      "[26]\tvalidation-rmse:6.66706                                                                 \n",
      "[27]\tvalidation-rmse:6.66535                                                                 \n",
      "[28]\tvalidation-rmse:6.66578                                                                 \n",
      "[29]\tvalidation-rmse:6.66527                                                                 \n",
      "[30]\tvalidation-rmse:6.66495                                                                 \n",
      "[31]\tvalidation-rmse:6.66469                                                                 \n",
      "[32]\tvalidation-rmse:6.66362                                                                 \n",
      "[33]\tvalidation-rmse:6.66395                                                                 \n",
      "[34]\tvalidation-rmse:6.66311                                                                 \n",
      "[35]\tvalidation-rmse:6.66239                                                                 \n",
      "[36]\tvalidation-rmse:6.66175                                                                 \n",
      "[37]\tvalidation-rmse:6.66119                                                                 \n",
      "[38]\tvalidation-rmse:6.66044                                                                 \n",
      "[39]\tvalidation-rmse:6.66005                                                                 \n",
      "[40]\tvalidation-rmse:6.65990                                                                 \n",
      "[41]\tvalidation-rmse:6.65988                                                                 \n",
      "[42]\tvalidation-rmse:6.65997                                                                 \n",
      "[43]\tvalidation-rmse:6.65890                                                                 \n",
      "[44]\tvalidation-rmse:6.65874                                                                 \n",
      "[45]\tvalidation-rmse:6.65873                                                                 \n",
      "[46]\tvalidation-rmse:6.65784                                                                 \n",
      "[47]\tvalidation-rmse:6.65780                                                                 \n",
      "[48]\tvalidation-rmse:6.65670                                                                 \n",
      "[49]\tvalidation-rmse:6.65690                                                                 \n",
      " 90%|███████████████████████▍  | 9/10 [04:32<00:25, 25.32s/trial, best loss: 6.3559243555761]"
     ]
    },
    {
     "name": "stderr",
     "output_type": "stream",
     "text": [
      "/opt/conda/envs/mlflow_env/lib/python3.9/site-packages/xgboost/core.py:158: UserWarning: [22:09:39] WARNING: /workspace/src/c_api/c_api.cc:1374: Saving model in the UBJSON format as default.  You can use file extension: `json`, `ubj` or `deprecated` to choose between formats.\n",
      "  warnings.warn(smsg, UserWarning)\n",
      "\n",
      "\u001b[31m2025/03/19 22:09:42 WARNING mlflow.models.model: Model logged without a signature and input example. Please set `input_example` parameter when logging the model to auto infer the model signature.\u001b[0m\n",
      "\n"
     ]
    },
    {
     "name": "stdout",
     "output_type": "stream",
     "text": [
      "100%|█████████████████████████| 10/10 [04:36<00:00, 27.68s/trial, best loss: 6.3559243555761]\n"
     ]
    },
    {
     "name": "stdout",
     "output_type": "stream",
     "text": [
      "[91]\tvalidation-rmse:6.61585                                                                \n",
      "[92]\tvalidation-rmse:6.61567                                                                \n",
      "[93]\tvalidation-rmse:6.61508                                                                \n",
      "[94]\tvalidation-rmse:6.61449                                                                \n",
      "[95]\tvalidation-rmse:6.61426                                                                \n",
      "[96]\tvalidation-rmse:6.61440                                                                \n",
      "[97]\tvalidation-rmse:6.61399                                                                \n",
      "[98]\tvalidation-rmse:6.61311                                                                \n",
      "[99]\tvalidation-rmse:6.61312                                                                \n",
      " 90%|████████████████████▋  | 9/10 [04:01<00:15, 15.54s/trial, best loss: 6.337907152115211]"
     ]
    },
    {
     "name": "stderr",
     "output_type": "stream",
     "text": [
      "/home/codespace/anaconda3/envs/exp-tracking-env/lib/python3.9/site-packages/xgboost/core.py:158: UserWarning: [22:17:52] WARNING: /workspace/src/objective/regression_obj.cu:227: reg:linear is now deprecated in favor of reg:squarederror.\n",
      "  warnings.warn(smsg, UserWarning)\n",
      "\n"
     ]
    },
    {
     "name": "stdout",
     "output_type": "stream",
     "text": [
      "[0]\tvalidation-rmse:7.75121                                                                 \n",
      "[1]\tvalidation-rmse:6.85662                                                                 \n",
      "[2]\tvalidation-rmse:6.66708                                                                 \n",
      "[3]\tvalidation-rmse:6.61213                                                                 \n",
      "[4]\tvalidation-rmse:6.59282                                                                 \n",
      "[5]\tvalidation-rmse:6.57541                                                                 \n",
      "[6]\tvalidation-rmse:6.56804                                                                 \n",
      "[7]\tvalidation-rmse:6.56145                                                                 \n",
      "[8]\tvalidation-rmse:6.55657                                                                 \n",
      "[9]\tvalidation-rmse:6.55288                                                                 \n",
      "[10]\tvalidation-rmse:6.54839                                                                \n",
      "[11]\tvalidation-rmse:6.54384                                                                \n",
      "[12]\tvalidation-rmse:6.53982                                                                \n",
      "[13]\tvalidation-rmse:6.53708                                                                \n",
      "[14]\tvalidation-rmse:6.53358                                                                \n",
      "[15]\tvalidation-rmse:6.52986                                                                \n",
      "[16]\tvalidation-rmse:6.52704                                                                \n",
      "[17]\tvalidation-rmse:6.52556                                                                \n",
      "[18]\tvalidation-rmse:6.52339                                                                \n",
      "[19]\tvalidation-rmse:6.51221                                                                \n",
      "[20]\tvalidation-rmse:6.50992                                                                \n",
      "[21]\tvalidation-rmse:6.50851                                                                \n",
      "[22]\tvalidation-rmse:6.50727                                                                \n",
      "[23]\tvalidation-rmse:6.50550                                                                \n",
      "[24]\tvalidation-rmse:6.50401                                                                \n",
      "[25]\tvalidation-rmse:6.50290                                                                \n",
      "[26]\tvalidation-rmse:6.50048                                                                \n",
      "[27]\tvalidation-rmse:6.49978                                                                \n",
      "[28]\tvalidation-rmse:6.49871                                                                \n",
      "[29]\tvalidation-rmse:6.49767                                                                \n",
      "[30]\tvalidation-rmse:6.49679                                                                \n",
      "[31]\tvalidation-rmse:6.49661                                                                \n",
      "[32]\tvalidation-rmse:6.49313                                                                \n",
      "[33]\tvalidation-rmse:6.49259                                                                \n",
      "[34]\tvalidation-rmse:6.49179                                                                \n",
      "[35]\tvalidation-rmse:6.49161                                                                \n",
      "[36]\tvalidation-rmse:6.49003                                                                \n",
      "[37]\tvalidation-rmse:6.48820                                                                \n",
      "[38]\tvalidation-rmse:6.48753                                                                \n",
      "[39]\tvalidation-rmse:6.48636                                                                \n",
      "[40]\tvalidation-rmse:6.48593                                                                \n",
      "[41]\tvalidation-rmse:6.48529                                                                \n",
      "[42]\tvalidation-rmse:6.48546                                                                \n",
      "[43]\tvalidation-rmse:6.48459                                                                \n",
      "[44]\tvalidation-rmse:6.48428                                                                \n",
      "[45]\tvalidation-rmse:6.48356                                                                \n",
      "[46]\tvalidation-rmse:6.48288                                                                \n",
      "[47]\tvalidation-rmse:6.48212                                                                \n",
      "[48]\tvalidation-rmse:6.48158                                                                \n",
      "[49]\tvalidation-rmse:6.48016                                                                \n",
      "[50]\tvalidation-rmse:6.47988                                                                \n",
      "[51]\tvalidation-rmse:6.47937                                                                \n",
      "[52]\tvalidation-rmse:6.47916                                                                \n",
      "[53]\tvalidation-rmse:6.47698                                                                \n",
      "[54]\tvalidation-rmse:6.47424                                                                \n",
      "[55]\tvalidation-rmse:6.47279                                                                \n",
      "[56]\tvalidation-rmse:6.47284                                                                \n",
      "[57]\tvalidation-rmse:6.47202                                                                \n",
      "[58]\tvalidation-rmse:6.47184                                                                \n",
      "[59]\tvalidation-rmse:6.47200                                                                \n",
      "[60]\tvalidation-rmse:6.47195                                                                \n",
      "[61]\tvalidation-rmse:6.47150                                                                \n",
      "[62]\tvalidation-rmse:6.47132                                                                \n",
      "[63]\tvalidation-rmse:6.47073                                                                \n",
      "[64]\tvalidation-rmse:6.47014                                                                \n",
      "[65]\tvalidation-rmse:6.46997                                                                \n",
      "[66]\tvalidation-rmse:6.46985                                                                \n",
      "[67]\tvalidation-rmse:6.47012                                                                \n",
      "[68]\tvalidation-rmse:6.46967                                                                \n",
      "[69]\tvalidation-rmse:6.46967                                                                \n",
      "[70]\tvalidation-rmse:6.46917                                                                \n",
      "[71]\tvalidation-rmse:6.46962                                                                \n",
      "[72]\tvalidation-rmse:6.46933                                                                \n",
      "[73]\tvalidation-rmse:6.46959                                                                \n",
      "[74]\tvalidation-rmse:6.46902                                                                \n",
      "[75]\tvalidation-rmse:6.46909                                                                \n",
      "[76]\tvalidation-rmse:6.46914                                                                \n",
      "[77]\tvalidation-rmse:6.46874                                                                \n",
      "[78]\tvalidation-rmse:6.46862                                                                \n",
      "[79]\tvalidation-rmse:6.46828                                                                \n",
      "[80]\tvalidation-rmse:6.46853                                                                \n",
      "[81]\tvalidation-rmse:6.46763                                                                \n",
      "[82]\tvalidation-rmse:6.46760                                                                \n",
      "[83]\tvalidation-rmse:6.46686                                                                \n",
      "[84]\tvalidation-rmse:6.46657                                                                \n",
      "[85]\tvalidation-rmse:6.46576                                                                \n",
      "[86]\tvalidation-rmse:6.46564                                                                \n",
      "[87]\tvalidation-rmse:6.46567                                                                \n"
     ]
    },
    {
     "name": "stdout",
     "output_type": "stream",
     "text": [
      "[88]\tvalidation-rmse:6.46464                                                                \n",
      "[89]\tvalidation-rmse:6.46371                                                                \n",
      "[90]\tvalidation-rmse:6.46321                                                                \n",
      "[91]\tvalidation-rmse:6.46334                                                                \n",
      "[92]\tvalidation-rmse:6.46378                                                                \n",
      "[93]\tvalidation-rmse:6.46383                                                                \n",
      "[94]\tvalidation-rmse:6.46393                                                                \n",
      "[95]\tvalidation-rmse:6.46399                                                                \n",
      "[96]\tvalidation-rmse:6.46317                                                                \n",
      "[97]\tvalidation-rmse:6.46289                                                                \n",
      "[98]\tvalidation-rmse:6.46392                                                                \n",
      "[99]\tvalidation-rmse:6.46368                                                                \n",
      "100%|██████████████████████| 10/10 [04:16<00:00, 25.64s/trial, best loss: 6.337907152115211]\n"
     ]
    }
   ],
   "source": [
    "result=fmin(\n",
    "    fn=objective,\n",
    "    space=search_space,\n",
    "    algo=tpe.suggest,\n",
    "    max_evals=10,\n",
    "    trials=Trials()\n",
    ")"
   ]
  },
  {
   "cell_type": "markdown",
   "id": "5a2f202c-9bc9-497f-b1b1-57436cc6257e",
   "metadata": {},
   "source": [
    "## select the hyperparameters from best model "
   ]
  },
  {
   "cell_type": "code",
   "execution_count": null,
   "id": "a399df17-9b77-4fdc-bc6f-3519b3337e81",
   "metadata": {},
   "outputs": [
    {
     "name": "stderr",
     "output_type": "stream",
     "text": [
      "2025/03/19 21:54:42 INFO mlflow.utils.autologging_utils: Created MLflow autologging run with ID '994be2d562c44c04a643358d861f832f', which will track hyperparameters, performance metrics, model artifacts, and lineage information for the current xgboost workflow\n"
     ]
    }
   ],
   "source": [
    "best_params={\n",
    "    'learning_rate':0.47727240630121637,\n",
    "    'max_depth':80,\n",
    "    'min_child_weight':1.0018416171991325,\n",
    "    'objective':'reg:linear',\n",
    "    'reg_alpha':0.035975037379223605,\n",
    "    'reg_lambda':0.0030249775225013233,\n",
    "    'seed':42\n",
    "}\n",
    "mlflow.xgboost.autolog()\n",
    "booster=xgb.train(\n",
    "            params=best_params,\n",
    "            dtrain=train,\n",
    "            num_boost_round=10,\n",
    "            evals=[(valid,'validation')],\n",
    "            early_stopping_rounds=50\n",
    "        )"
   ]
  },
  {
   "cell_type": "markdown",
   "id": "09dd4923-aeb8-4aaf-8faa-c7654460c4ee",
   "metadata": {},
   "source": [
    "## making predictions from logged model"
   ]
  },
  {
   "cell_type": "code",
   "execution_count": 23,
   "id": "63471032-802a-46e3-8f82-53fec6c6f469",
   "metadata": {},
   "outputs": [],
   "source": [
    "logged_model='runs:/37ae44a196b84617b79979721a4b700f/models_mlflow'\n",
    "#load model\n",
    "xgb_model=mlflow.xgboost.load_model(logged_model)"
   ]
  },
  {
   "cell_type": "code",
   "execution_count": 25,
   "id": "3725226d-1d75-4727-a608-8c03c0be5357",
   "metadata": {},
   "outputs": [
    {
     "data": {
      "text/plain": [
       "array([13.930652,  6.461905, 21.47559 , 24.854925,  9.170853, 17.101048,\n",
       "       14.701725,  9.104583,  9.281493, 18.616581], dtype=float32)"
      ]
     },
     "execution_count": 25,
     "metadata": {},
     "output_type": "execute_result"
    }
   ],
   "source": [
    "y_pred=xgb_model.predict(valid)\n",
    "y_pred[:10]"
   ]
  },
  {
   "cell_type": "markdown",
   "id": "e972449c",
   "metadata": {},
   "source": [
    "### MLflow-autologging"
   ]
  },
  {
   "cell_type": "code",
   "execution_count": null,
   "id": "3839eda8",
   "metadata": {},
   "outputs": [],
   "source": [
    "from sklearn.ensemble import RandomForestRegressor,GradientBoostingRegressor,ExtraTreesRegressor\n",
    "from sklearn.svm import LinearSVR\n",
    "\n",
    "mlflow.sklearn.autolog()\n",
    "for model_class in(RandomForestRegressor,GradientBoostingRegressor,ExtraTreesRegressor,LinearSVR):\n",
    "    with mlflow.start_run():\n",
    "        mlflow.log_artifact(\"models/preprocessor.b\",artifact_path=\"preprocessor\")\n",
    "        mlmodel=model_class()\n",
    "        mlmodel.fit(X_train,y_train)\n",
    "        y_pred=mlmodel.pred(X_val)\n",
    "        rmse=root_mean_squared_error(y_val,y_pred)\n",
    "        mlflow.log_metric(\"rmse\",rmse)"
   ]
  }
 ],
 "metadata": {
  "kernelspec": {
   "display_name": "Python 3 (ipykernel)",
   "language": "python",
   "name": "python3"
  },
  "language_info": {
   "codemirror_mode": {
    "name": "ipython",
    "version": 3
   },
   "file_extension": ".py",
   "mimetype": "text/x-python",
   "name": "python",
   "nbconvert_exporter": "python",
   "pygments_lexer": "ipython3",
   "version": "3.9.21"
  }
 },
 "nbformat": 4,
 "nbformat_minor": 5
}
