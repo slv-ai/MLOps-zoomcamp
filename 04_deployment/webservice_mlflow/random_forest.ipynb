{
 "cells": [
  {
   "cell_type": "code",
   "execution_count": 1,
   "id": "cd6f2599-bbb4-40be-98c6-c321698e00a3",
   "metadata": {},
   "outputs": [],
   "source": [
    "import pickle\n",
    "import pandas as pd\n",
    "from sklearn.feature_extraction import DictVectorizer\n",
    "from sklearn.ensemble import RandomForestRegressor\n",
    "from sklearn.metrics import mean_squared_error\n"
   ]
  },
  {
   "cell_type": "code",
   "execution_count": 2,
   "id": "8e3cedba-a809-403e-b58d-0597f32d9677",
   "metadata": {},
   "outputs": [],
   "source": [
    "from sklearn.pipeline import make_pipeline"
   ]
  },
  {
   "cell_type": "code",
   "execution_count": 8,
   "id": "ccb1da51-f291-4f7f-8e0c-25476e189580",
   "metadata": {},
   "outputs": [
    {
     "name": "stdout",
     "output_type": "stream",
     "text": [
      "Collecting mlflow\n",
      "  Using cached mlflow-2.21.3-py3-none-any.whl.metadata (30 kB)\n",
      "Requirement already satisfied: mlflow-skinny==2.21.3 in /home/ubuntu/anaconda3/lib/python3.9/site-packages (from mlflow) (2.21.3)\n",
      "Requirement already satisfied: Flask<4 in /home/ubuntu/anaconda3/lib/python3.9/site-packages (from mlflow) (1.1.2)\n",
      "Requirement already satisfied: Jinja2<4,>=2.11 in /home/ubuntu/anaconda3/lib/python3.9/site-packages (from mlflow) (2.11.3)\n",
      "Requirement already satisfied: alembic!=1.10.0,<2 in /home/ubuntu/anaconda3/lib/python3.9/site-packages (from mlflow) (1.15.2)\n",
      "Requirement already satisfied: docker<8,>=4.0.0 in /home/ubuntu/anaconda3/lib/python3.9/site-packages (from mlflow) (6.1.3)\n",
      "Requirement already satisfied: graphene<4 in /home/ubuntu/anaconda3/lib/python3.9/site-packages (from mlflow) (3.4.3)\n",
      "Requirement already satisfied: gunicorn<24 in /home/ubuntu/anaconda3/lib/python3.9/site-packages (from mlflow) (20.1.0)\n",
      "Requirement already satisfied: markdown<4,>=3.3 in /home/ubuntu/anaconda3/lib/python3.9/site-packages (from mlflow) (3.3.4)\n",
      "Requirement already satisfied: matplotlib<4 in /home/ubuntu/anaconda3/lib/python3.9/site-packages (from mlflow) (3.5.1)\n",
      "Requirement already satisfied: numpy<3 in /home/ubuntu/anaconda3/lib/python3.9/site-packages (from mlflow) (1.21.5)\n",
      "Requirement already satisfied: pandas<3 in /home/ubuntu/anaconda3/lib/python3.9/site-packages (from mlflow) (1.4.2)\n",
      "Requirement already satisfied: pyarrow<20,>=4.0.0 in /home/ubuntu/anaconda3/lib/python3.9/site-packages (from mlflow) (10.0.1)\n",
      "Requirement already satisfied: scikit-learn<2 in /home/ubuntu/anaconda3/lib/python3.9/site-packages (from mlflow) (1.0.2)\n",
      "Requirement already satisfied: scipy<2 in /home/ubuntu/anaconda3/lib/python3.9/site-packages (from mlflow) (1.7.3)\n",
      "Requirement already satisfied: sqlalchemy<3,>=1.4.0 in /home/ubuntu/anaconda3/lib/python3.9/site-packages (from mlflow) (1.4.32)\n",
      "Requirement already satisfied: cachetools<6,>=5.0.0 in /home/ubuntu/anaconda3/lib/python3.9/site-packages (from mlflow-skinny==2.21.3->mlflow) (5.5.2)\n",
      "Requirement already satisfied: click<9,>=7.0 in /home/ubuntu/anaconda3/lib/python3.9/site-packages (from mlflow-skinny==2.21.3->mlflow) (8.0.4)\n",
      "Requirement already satisfied: cloudpickle<4 in /home/ubuntu/anaconda3/lib/python3.9/site-packages (from mlflow-skinny==2.21.3->mlflow) (2.0.0)\n",
      "Requirement already satisfied: databricks-sdk<1,>=0.20.0 in /home/ubuntu/anaconda3/lib/python3.9/site-packages (from mlflow-skinny==2.21.3->mlflow) (0.49.0)\n",
      "Requirement already satisfied: fastapi<1 in /home/ubuntu/anaconda3/lib/python3.9/site-packages (from mlflow-skinny==2.21.3->mlflow) (0.115.12)\n",
      "Requirement already satisfied: gitpython<4,>=3.1.9 in /home/ubuntu/anaconda3/lib/python3.9/site-packages (from mlflow-skinny==2.21.3->mlflow) (3.1.44)\n",
      "Requirement already satisfied: importlib_metadata!=4.7.0,<9,>=3.7.0 in /home/ubuntu/anaconda3/lib/python3.9/site-packages (from mlflow-skinny==2.21.3->mlflow) (5.2.0)\n",
      "Requirement already satisfied: opentelemetry-api<3,>=1.9.0 in /home/ubuntu/anaconda3/lib/python3.9/site-packages (from mlflow-skinny==2.21.3->mlflow) (1.31.1)\n",
      "Requirement already satisfied: opentelemetry-sdk<3,>=1.9.0 in /home/ubuntu/anaconda3/lib/python3.9/site-packages (from mlflow-skinny==2.21.3->mlflow) (1.31.1)\n",
      "Requirement already satisfied: packaging<25 in /home/ubuntu/anaconda3/lib/python3.9/site-packages (from mlflow-skinny==2.21.3->mlflow) (21.3)\n",
      "Requirement already satisfied: protobuf<6,>=3.12.0 in /home/ubuntu/anaconda3/lib/python3.9/site-packages (from mlflow-skinny==2.21.3->mlflow) (3.19.1)\n",
      "Requirement already satisfied: pydantic<3,>=1.10.8 in /home/ubuntu/anaconda3/lib/python3.9/site-packages (from mlflow-skinny==2.21.3->mlflow) (2.11.3)\n",
      "Requirement already satisfied: pyyaml<7,>=5.1 in /home/ubuntu/anaconda3/lib/python3.9/site-packages (from mlflow-skinny==2.21.3->mlflow) (6.0)\n",
      "Requirement already satisfied: requests<3,>=2.17.3 in /home/ubuntu/anaconda3/lib/python3.9/site-packages (from mlflow-skinny==2.21.3->mlflow) (2.32.3)\n",
      "Requirement already satisfied: sqlparse<1,>=0.4.0 in /home/ubuntu/anaconda3/lib/python3.9/site-packages (from mlflow-skinny==2.21.3->mlflow) (0.5.3)\n",
      "Requirement already satisfied: typing-extensions<5,>=4.0.0 in /home/ubuntu/anaconda3/lib/python3.9/site-packages (from mlflow-skinny==2.21.3->mlflow) (4.13.1)\n",
      "Requirement already satisfied: uvicorn<1 in /home/ubuntu/anaconda3/lib/python3.9/site-packages (from mlflow-skinny==2.21.3->mlflow) (0.34.0)\n",
      "Requirement already satisfied: Mako in /home/ubuntu/anaconda3/lib/python3.9/site-packages (from alembic!=1.10.0,<2->mlflow) (1.3.9)\n",
      "Requirement already satisfied: urllib3>=1.26.0 in /home/ubuntu/anaconda3/lib/python3.9/site-packages (from docker<8,>=4.0.0->mlflow) (1.26.9)\n",
      "Requirement already satisfied: websocket-client>=0.32.0 in /home/ubuntu/anaconda3/lib/python3.9/site-packages (from docker<8,>=4.0.0->mlflow) (0.58.0)\n",
      "Requirement already satisfied: Werkzeug>=0.15 in /home/ubuntu/anaconda3/lib/python3.9/site-packages (from Flask<4->mlflow) (2.0.3)\n",
      "Requirement already satisfied: itsdangerous>=0.24 in /home/ubuntu/anaconda3/lib/python3.9/site-packages (from Flask<4->mlflow) (2.0.1)\n",
      "Requirement already satisfied: graphql-core<3.3,>=3.1 in /home/ubuntu/anaconda3/lib/python3.9/site-packages (from graphene<4->mlflow) (3.2.6)\n",
      "Requirement already satisfied: graphql-relay<3.3,>=3.1 in /home/ubuntu/anaconda3/lib/python3.9/site-packages (from graphene<4->mlflow) (3.2.0)\n",
      "Requirement already satisfied: python-dateutil<3,>=2.7.0 in /home/ubuntu/anaconda3/lib/python3.9/site-packages (from graphene<4->mlflow) (2.8.2)\n",
      "Requirement already satisfied: setuptools>=3.0 in /home/ubuntu/anaconda3/lib/python3.9/site-packages (from gunicorn<24->mlflow) (59.5.0)\n",
      "Requirement already satisfied: MarkupSafe>=0.23 in /home/ubuntu/anaconda3/lib/python3.9/site-packages (from Jinja2<4,>=2.11->mlflow) (2.0.1)\n",
      "Requirement already satisfied: cycler>=0.10 in /home/ubuntu/anaconda3/lib/python3.9/site-packages (from matplotlib<4->mlflow) (0.11.0)\n",
      "Requirement already satisfied: fonttools>=4.22.0 in /home/ubuntu/anaconda3/lib/python3.9/site-packages (from matplotlib<4->mlflow) (4.25.0)\n",
      "Requirement already satisfied: kiwisolver>=1.0.1 in /home/ubuntu/anaconda3/lib/python3.9/site-packages (from matplotlib<4->mlflow) (1.3.2)\n",
      "Requirement already satisfied: pillow>=6.2.0 in /home/ubuntu/anaconda3/lib/python3.9/site-packages (from matplotlib<4->mlflow) (9.0.1)\n",
      "Requirement already satisfied: pyparsing>=2.2.1 in /home/ubuntu/anaconda3/lib/python3.9/site-packages (from matplotlib<4->mlflow) (3.0.4)\n",
      "Requirement already satisfied: pytz>=2020.1 in /home/ubuntu/anaconda3/lib/python3.9/site-packages (from pandas<3->mlflow) (2021.3)\n",
      "Requirement already satisfied: joblib>=0.11 in /home/ubuntu/anaconda3/lib/python3.9/site-packages (from scikit-learn<2->mlflow) (1.1.0)\n",
      "Requirement already satisfied: threadpoolctl>=2.0.0 in /home/ubuntu/anaconda3/lib/python3.9/site-packages (from scikit-learn<2->mlflow) (2.2.0)\n",
      "Requirement already satisfied: greenlet!=0.4.17 in /home/ubuntu/anaconda3/lib/python3.9/site-packages (from sqlalchemy<3,>=1.4.0->mlflow) (1.1.1)\n",
      "Requirement already satisfied: google-auth~=2.0 in /home/ubuntu/anaconda3/lib/python3.9/site-packages (from databricks-sdk<1,>=0.20.0->mlflow-skinny==2.21.3->mlflow) (2.0.0)\n",
      "Requirement already satisfied: starlette<0.47.0,>=0.40.0 in /home/ubuntu/anaconda3/lib/python3.9/site-packages (from fastapi<1->mlflow-skinny==2.21.3->mlflow) (0.46.1)\n",
      "Requirement already satisfied: gitdb<5,>=4.0.1 in /home/ubuntu/anaconda3/lib/python3.9/site-packages (from gitpython<4,>=3.1.9->mlflow-skinny==2.21.3->mlflow) (4.0.12)\n",
      "Requirement already satisfied: zipp>=0.5 in /home/ubuntu/anaconda3/lib/python3.9/site-packages (from importlib_metadata!=4.7.0,<9,>=3.7.0->mlflow-skinny==2.21.3->mlflow) (3.21.0)\n",
      "Requirement already satisfied: deprecated>=1.2.6 in /home/ubuntu/anaconda3/lib/python3.9/site-packages (from opentelemetry-api<3,>=1.9.0->mlflow-skinny==2.21.3->mlflow) (1.2.18)\n",
      "Collecting importlib_metadata!=4.7.0,<9,>=3.7.0 (from mlflow-skinny==2.21.3->mlflow)\n",
      "  Using cached importlib_metadata-8.6.1-py3-none-any.whl.metadata (4.7 kB)\n",
      "Requirement already satisfied: opentelemetry-semantic-conventions==0.52b1 in /home/ubuntu/anaconda3/lib/python3.9/site-packages (from opentelemetry-sdk<3,>=1.9.0->mlflow-skinny==2.21.3->mlflow) (0.52b1)\n",
      "Requirement already satisfied: annotated-types>=0.6.0 in /home/ubuntu/anaconda3/lib/python3.9/site-packages (from pydantic<3,>=1.10.8->mlflow-skinny==2.21.3->mlflow) (0.7.0)\n",
      "Requirement already satisfied: pydantic-core==2.33.1 in /home/ubuntu/anaconda3/lib/python3.9/site-packages (from pydantic<3,>=1.10.8->mlflow-skinny==2.21.3->mlflow) (2.33.1)\n",
      "Requirement already satisfied: typing-inspection>=0.4.0 in /home/ubuntu/anaconda3/lib/python3.9/site-packages (from pydantic<3,>=1.10.8->mlflow-skinny==2.21.3->mlflow) (0.4.0)\n"
     ]
    },
    {
     "name": "stdout",
     "output_type": "stream",
     "text": [
      "Requirement already satisfied: six>=1.5 in /home/ubuntu/anaconda3/lib/python3.9/site-packages (from python-dateutil<3,>=2.7.0->graphene<4->mlflow) (1.16.0)\n",
      "Requirement already satisfied: charset-normalizer<4,>=2 in /home/ubuntu/anaconda3/lib/python3.9/site-packages (from requests<3,>=2.17.3->mlflow-skinny==2.21.3->mlflow) (2.0.4)\n",
      "Requirement already satisfied: idna<4,>=2.5 in /home/ubuntu/anaconda3/lib/python3.9/site-packages (from requests<3,>=2.17.3->mlflow-skinny==2.21.3->mlflow) (3.3)\n",
      "Requirement already satisfied: certifi>=2017.4.17 in /home/ubuntu/anaconda3/lib/python3.9/site-packages (from requests<3,>=2.17.3->mlflow-skinny==2.21.3->mlflow) (2021.10.8)\n",
      "Requirement already satisfied: h11>=0.8 in /home/ubuntu/anaconda3/lib/python3.9/site-packages (from uvicorn<1->mlflow-skinny==2.21.3->mlflow) (0.14.0)\n",
      "Requirement already satisfied: wrapt<2,>=1.10 in /home/ubuntu/anaconda3/lib/python3.9/site-packages (from deprecated>=1.2.6->opentelemetry-api<3,>=1.9.0->mlflow-skinny==2.21.3->mlflow) (1.12.1)\n",
      "Requirement already satisfied: smmap<6,>=3.0.1 in /home/ubuntu/anaconda3/lib/python3.9/site-packages (from gitdb<5,>=4.0.1->gitpython<4,>=3.1.9->mlflow-skinny==2.21.3->mlflow) (5.0.2)\n",
      "INFO: pip is looking at multiple versions of google-auth to determine which version is compatible with other requirements. This could take a while.\n",
      "Collecting google-auth~=2.0 (from databricks-sdk<1,>=0.20.0->mlflow-skinny==2.21.3->mlflow)\n",
      "  Using cached google_auth-2.38.0-py2.py3-none-any.whl.metadata (4.8 kB)\n",
      "Requirement already satisfied: pyasn1-modules>=0.2.1 in /home/ubuntu/anaconda3/lib/python3.9/site-packages (from google-auth~=2.0->databricks-sdk<1,>=0.20.0->mlflow-skinny==2.21.3->mlflow) (0.2.8)\n",
      "Requirement already satisfied: rsa<5,>=3.1.4 in /home/ubuntu/anaconda3/lib/python3.9/site-packages (from google-auth~=2.0->databricks-sdk<1,>=0.20.0->mlflow-skinny==2.21.3->mlflow) (4.7.2)\n",
      "Requirement already satisfied: anyio<5,>=3.6.2 in /home/ubuntu/anaconda3/lib/python3.9/site-packages (from starlette<0.47.0,>=0.40.0->fastapi<1->mlflow-skinny==2.21.3->mlflow) (4.9.0)\n",
      "Requirement already satisfied: exceptiongroup>=1.0.2 in /home/ubuntu/anaconda3/lib/python3.9/site-packages (from anyio<5,>=3.6.2->starlette<0.47.0,>=0.40.0->fastapi<1->mlflow-skinny==2.21.3->mlflow) (1.2.2)\n",
      "Requirement already satisfied: sniffio>=1.1 in /home/ubuntu/anaconda3/lib/python3.9/site-packages (from anyio<5,>=3.6.2->starlette<0.47.0,>=0.40.0->fastapi<1->mlflow-skinny==2.21.3->mlflow) (1.2.0)\n",
      "Requirement already satisfied: pyasn1<0.5.0,>=0.4.6 in /home/ubuntu/anaconda3/lib/python3.9/site-packages (from pyasn1-modules>=0.2.1->google-auth~=2.0->databricks-sdk<1,>=0.20.0->mlflow-skinny==2.21.3->mlflow) (0.4.8)\n",
      "Using cached mlflow-2.21.3-py3-none-any.whl (28.2 MB)\n",
      "Using cached importlib_metadata-8.6.1-py3-none-any.whl (26 kB)\n",
      "Using cached google_auth-2.38.0-py2.py3-none-any.whl (210 kB)\n",
      "Installing collected packages: importlib_metadata, google-auth, mlflow\n",
      "  Attempting uninstall: importlib_metadata\n",
      "    Found existing installation: importlib-metadata 5.2.0\n",
      "    Uninstalling importlib-metadata-5.2.0:\n",
      "      Successfully uninstalled importlib-metadata-5.2.0\n",
      "  Attempting uninstall: google-auth\n",
      "    Found existing installation: google-auth 2.0.0\n",
      "    Uninstalling google-auth-2.0.0:\n",
      "      Successfully uninstalled google-auth-2.0.0\n",
      "\u001b[31mERROR: pip's dependency resolver does not currently take into account all the packages that are installed. This behaviour is the source of the following dependency conflicts.\n",
      "spyder 5.1.5 requires pyqt5<5.13, which is not installed.\n",
      "spyder 5.1.5 requires pyqtwebengine<5.13, which is not installed.\n",
      "google-api-core 1.25.1 requires google-auth<2.0dev,>=1.21.1, but you have google-auth 2.38.0 which is incompatible.\n",
      "google-cloud-core 1.7.1 requires google-auth<2.0dev,>=1.24.0, but you have google-auth 2.38.0 which is incompatible.\n",
      "google-cloud-storage 1.31.0 requires google-auth<2.0dev,>=1.11.0, but you have google-auth 2.38.0 which is incompatible.\u001b[0m\u001b[31m\n",
      "\u001b[0mSuccessfully installed google-auth-2.38.0 importlib_metadata-8.6.1 mlflow-2.21.3\n",
      "Note: you may need to restart the kernel to use updated packages.\n"
     ]
    }
   ],
   "source": [
    "pip install mlflow"
   ]
  },
  {
   "cell_type": "code",
   "execution_count": 3,
   "id": "a9d3faad-f383-4163-923f-86b7ba375f86",
   "metadata": {},
   "outputs": [
    {
     "name": "stdout",
     "output_type": "stream",
     "text": [
      "Requirement already satisfied: boto3 in /home/ubuntu/anaconda3/lib/python3.9/site-packages (1.21.32)\n",
      "Requirement already satisfied: botocore<1.25.0,>=1.24.32 in /home/ubuntu/anaconda3/lib/python3.9/site-packages (from boto3) (1.24.32)\n",
      "Requirement already satisfied: jmespath<2.0.0,>=0.7.1 in /home/ubuntu/anaconda3/lib/python3.9/site-packages (from boto3) (0.10.0)\n",
      "Requirement already satisfied: s3transfer<0.6.0,>=0.5.0 in /home/ubuntu/anaconda3/lib/python3.9/site-packages (from boto3) (0.5.0)\n",
      "Requirement already satisfied: python-dateutil<3.0.0,>=2.1 in /home/ubuntu/anaconda3/lib/python3.9/site-packages (from botocore<1.25.0,>=1.24.32->boto3) (2.8.2)\n",
      "Requirement already satisfied: urllib3<1.27,>=1.25.4 in /home/ubuntu/anaconda3/lib/python3.9/site-packages (from botocore<1.25.0,>=1.24.32->boto3) (1.26.9)\n",
      "Requirement already satisfied: six>=1.5 in /home/ubuntu/anaconda3/lib/python3.9/site-packages (from python-dateutil<3.0.0,>=2.1->botocore<1.25.0,>=1.24.32->boto3) (1.16.0)\n",
      "Note: you may need to restart the kernel to use updated packages.\n"
     ]
    }
   ],
   "source": [
    "pip install boto3"
   ]
  },
  {
   "cell_type": "code",
   "execution_count": 4,
   "id": "f17a36d9-e40c-42d5-8a82-5c5d651a4262",
   "metadata": {},
   "outputs": [
    {
     "name": "stdout",
     "output_type": "stream",
     "text": [
      "1.21.32\n"
     ]
    }
   ],
   "source": [
    "import boto3\n",
    "print(boto3.__version__)"
   ]
  },
  {
   "cell_type": "code",
   "execution_count": 5,
   "id": "c12019f2-5034-408d-9524-2ac1b9ea75ff",
   "metadata": {},
   "outputs": [],
   "source": [
    "import os\n",
    "\n",
    "# Set the AWS profile to use\n",
    "os.environ['AWS_PROFILE'] = 'ml_user'"
   ]
  },
  {
   "cell_type": "code",
   "execution_count": 6,
   "id": "224b5330",
   "metadata": {},
   "outputs": [
    {
     "name": "stdout",
     "output_type": "stream",
     "text": [
      "{'ResponseMetadata': {'RequestId': 'J5Y1FVXMW1VFJHQM', 'HostId': 'gZyZ/JNazenMF2W2C34Q3WNMKkqvP8IaWyh64KsxQq8Lb9IwDZUndVQuQ2z6uF84vmZS1J8Fjbg=', 'HTTPStatusCode': 200, 'HTTPHeaders': {'x-amz-id-2': 'gZyZ/JNazenMF2W2C34Q3WNMKkqvP8IaWyh64KsxQq8Lb9IwDZUndVQuQ2z6uF84vmZS1J8Fjbg=', 'x-amz-request-id': 'J5Y1FVXMW1VFJHQM', 'date': 'Wed, 09 Apr 2025 00:35:37 GMT', 'content-type': 'application/xml', 'transfer-encoding': 'chunked', 'server': 'AmazonS3'}, 'RetryAttempts': 0}, 'Buckets': [{'Name': 'ml-sagemaker-practise', 'CreationDate': datetime.datetime(2025, 3, 5, 16, 9, 31, tzinfo=tzlocal())}, {'Name': 'mlflow-models-slv', 'CreationDate': datetime.datetime(2025, 3, 21, 15, 25, 50, tzinfo=tzlocal())}, {'Name': 'sagemaker-studio-585768144809-iwglcnciicp', 'CreationDate': datetime.datetime(2025, 1, 21, 20, 41, 34, tzinfo=tzlocal())}, {'Name': 'sagemaker-studio-585768144809-q9v9klv6dxe', 'CreationDate': datetime.datetime(2025, 1, 21, 20, 37, 14, tzinfo=tzlocal())}, {'Name': 'sagemaker-studio-585768144809-v5l9p0omdd', 'CreationDate': datetime.datetime(2025, 1, 21, 20, 37, 9, tzinfo=tzlocal())}, {'Name': 'sagemaker-us-east-1-585768144809', 'CreationDate': datetime.datetime(2025, 1, 21, 20, 37, 11, tzinfo=tzlocal())}], 'Owner': {'DisplayName': 'porselvi8989', 'ID': '0a3c245cbd09565212fb3e644481172e140094e7e7a23890370c2ca260b03b9b'}}\n"
     ]
    }
   ],
   "source": [
    "import boto3\n",
    "\n",
    "# Create a session and specify the region if necessary\n",
    "session = boto3.Session(profile_name='ml_user', region_name='us-east-1')\n",
    "\n",
    "# Create the S3 client and list buckets\n",
    "s3_client = session.client('s3')\n",
    "response = s3_client.list_buckets()\n",
    "print(response)\n"
   ]
  },
  {
   "cell_type": "code",
   "execution_count": 9,
   "id": "17c48dd3",
   "metadata": {},
   "outputs": [
    {
     "name": "stdout",
     "output_type": "stream",
     "text": [
      "2.21.3\n"
     ]
    }
   ],
   "source": [
    "import mlflow\n",
    "print(mlflow.__version__)\n"
   ]
  },
  {
   "cell_type": "code",
   "execution_count": 11,
   "id": "c74002ed-176c-47dc-8206-ec5cf9037367",
   "metadata": {},
   "outputs": [
    {
     "name": "stderr",
     "output_type": "stream",
     "text": [
      "2025/04/09 00:39:12 INFO mlflow.tracking.fluent: Experiment with name 'green taxi duration' does not exist. Creating a new experiment.\n"
     ]
    },
    {
     "data": {
      "text/plain": [
       "<Experiment: artifact_location='s3://mlflow-models-slv/1', creation_time=1744159152449, experiment_id='1', last_update_time=1744159152449, lifecycle_stage='active', name='green taxi duration', tags={}>"
      ]
     },
     "execution_count": 11,
     "metadata": {},
     "output_type": "execute_result"
    }
   ],
   "source": [
    "import mlflow\n",
    "mlflow.set_tracking_uri(\"http://127.0.0.1:5000\")\n",
    "mlflow.set_experiment(\"green taxi duration\")"
   ]
  },
  {
   "cell_type": "code",
   "execution_count": 12,
   "id": "077f20eb-8ec8-4b3c-91e3-dc03b9d3aee6",
   "metadata": {},
   "outputs": [],
   "source": [
    "def read_dataframe(filename: str):\n",
    "    df=pd.read_parquet(filename)\n",
    "    df['duration']=df.lpep_dropoff_datetime - df.lpep_pickup_datetime\n",
    "    df.duration=df.duration.apply(lambda m : m.total_seconds() / 60)\n",
    "    \n",
    "    df=df[(df.duration >= 1) & (df.duration <= 60)]\n",
    "    categorical=['PULocationID','DOLocationID']\n",
    "    df[categorical]=df[categorical].astype(str)\n",
    "    return df    \n",
    "    "
   ]
  },
  {
   "cell_type": "code",
   "execution_count": 13,
   "id": "a2ccfecd-110d-4241-b64a-b4f230e3ad6a",
   "metadata": {},
   "outputs": [],
   "source": [
    "def prepare_dictionaries(df:pd.DataFrame):\n",
    "    df['PU_DO']=df['PULocationID'] + '_' + df['DOLocationID']\n",
    "    categorical=['PU_DO']\n",
    "    numerical=['trip_distance']\n",
    "    dicts=df[categorical + numerical].to_dict(orient='records')\n",
    "    return dicts"
   ]
  },
  {
   "cell_type": "code",
   "execution_count": 14,
   "id": "5b97f0ed-9895-4242-b9f3-95bd40c6c70b",
   "metadata": {},
   "outputs": [],
   "source": [
    "df_train=read_dataframe('https://d37ci6vzurychx.cloudfront.net/trip-data/green_tripdata_2021-01.parquet')\n",
    "df_val=read_dataframe('https://d37ci6vzurychx.cloudfront.net/trip-data/green_tripdata_2021-02.parquet')\n",
    "target='duration'\n",
    "y_train=df_train[target].values\n",
    "y_val=df_val[target].values\n",
    "\n",
    "dict_train=prepare_dictionaries(df_train)\n",
    "dict_val=prepare_dictionaries(df_val)"
   ]
  },
  {
   "cell_type": "code",
   "execution_count": 15,
   "id": "a67d7af9-bb07-48f8-8640-8ae0f545fddd",
   "metadata": {},
   "outputs": [
    {
     "data": {
      "text/plain": [
       "(73908, 61921)"
      ]
     },
     "execution_count": 15,
     "metadata": {},
     "output_type": "execute_result"
    }
   ],
   "source": [
    "len(df_train),len(df_val)"
   ]
  },
  {
   "cell_type": "code",
   "execution_count": 22,
   "id": "48f863eb-4b75-4048-9533-f762108fb2f5",
   "metadata": {},
   "outputs": [
    {
     "name": "stdout",
     "output_type": "stream",
     "text": [
      "{'max_depth': 20, 'n_estimators': 100, 'min_samples_leaf': 10, 'random_state': 0} 45.64114429815588\n"
     ]
    },
    {
     "name": "stderr",
     "output_type": "stream",
     "text": [
      "2025/04/09 00:56:21 WARNING mlflow.utils.environment: Encountered an unexpected error while inferring pip requirements (model URI: /tmp/tmpn56vvzij/model/model.pkl, flavor: sklearn). Fall back to return ['scikit-learn==1.0.2', 'cloudpickle==2.0.0']. Set logging level to DEBUG to see the full traceback. \n",
      "\u001b[31m2025/04/09 00:56:21 WARNING mlflow.models.model: Model logged without a signature and input example. Please set `input_example` parameter when logging the model to auto infer the model signature.\u001b[0m\n"
     ]
    },
    {
     "name": "stdout",
     "output_type": "stream",
     "text": [
      "🏃 View run burly-seal-331 at: http://127.0.0.1:5000/#/experiments/1/runs/0b524fa448444456aa0ead18def76fcd\n",
      "🧪 View experiment at: http://127.0.0.1:5000/#/experiments/1\n"
     ]
    }
   ],
   "source": [
    "with mlflow.start_run():\n",
    "    params=dict(max_depth=20,n_estimators=100,min_samples_leaf=10,random_state=0)\n",
    "    mlflow.log_params(params)\n",
    "\n",
    "    dv = DictVectorizer()\n",
    "    model = RandomForestRegressor(**params,n_jobs=-1)\n",
    "\n",
    "    X_train = dv.fit_transform(dict_train)\n",
    "    model.fit(X_train,y_train)\n",
    "\n",
    "    X_val = dv.transform(dict_val)\n",
    "    y_pred = model.predict(X_val)\n",
    "\n",
    "   \n",
    "    mse = mean_squared_error(y_val, y_pred)\n",
    "    print(params,mse)\n",
    "    mlflow.log_metric('mse',mse)\n",
    "    \n",
    "    mlflow.sklearn.log_model(model,artifact_path=\"model\")\n",
    "\n",
    "    with open('dict_vectorizer.bin','wb') as f_out:\n",
    "        pickle.dump(dv,f_out)\n",
    "    mlflow.log_artifact('dict_vectorizer.bin')"
   ]
  },
  {
   "cell_type": "markdown",
   "id": "c079930a-6eea-49f0-b581-7e8350b1c6e6",
   "metadata": {},
   "source": [
    "### using sklearn pipeline"
   ]
  },
  {
   "cell_type": "code",
   "execution_count": 16,
   "id": "b4d8f8bb-29d2-4c2a-a075-c358714f8d10",
   "metadata": {},
   "outputs": [
    {
     "name": "stdout",
     "output_type": "stream",
     "text": [
      "{'max_depth': 20, 'n_estimators': 100, 'min_samples_leaf': 10, 'random_state': 0} 45.64114429815588\n"
     ]
    },
    {
     "name": "stderr",
     "output_type": "stream",
     "text": [
      "2025/04/09 00:41:22 WARNING mlflow.utils.environment: Encountered an unexpected error while inferring pip requirements (model URI: /tmp/tmpuxesqum4/model/model.pkl, flavor: sklearn). Fall back to return ['scikit-learn==1.0.2', 'cloudpickle==2.0.0']. Set logging level to DEBUG to see the full traceback. \n",
      "\u001b[31m2025/04/09 00:41:22 WARNING mlflow.models.model: Model logged without a signature and input example. Please set `input_example` parameter when logging the model to auto infer the model signature.\u001b[0m\n"
     ]
    },
    {
     "name": "stdout",
     "output_type": "stream",
     "text": [
      "🏃 View run popular-bird-15 at: http://127.0.0.1:5000/#/experiments/1/runs/fad1893cd9bb408babd99b113e83e900\n",
      "🧪 View experiment at: http://127.0.0.1:5000/#/experiments/1\n"
     ]
    }
   ],
   "source": [
    "with mlflow.start_run():\n",
    "    params=dict(max_depth=20,n_estimators=100,min_samples_leaf=10,random_state=0)\n",
    "    mlflow.log_params(params)\n",
    "    pipeline=make_pipeline(\n",
    "        DictVectorizer(),\n",
    "        RandomForestRegressor(**params,n_jobs=-1)\n",
    "    )\n",
    "    pipeline.fit(dict_train,y_train)\n",
    "    y_pred=pipeline.predict(dict_val)\n",
    "    \n",
    "    mse=mean_squared_error(y_pred,y_val)\n",
    "    print(params,mse)\n",
    "    mlflow.log_metric('mse',mse)\n",
    "    mlflow.sklearn.log_model(pipeline,artifact_path=\"model\")\n",
    "    \n",
    "    "
   ]
  },
  {
   "cell_type": "code",
   "execution_count": 19,
   "id": "46731efe",
   "metadata": {},
   "outputs": [],
   "source": [
    "from mlflow.tracking import MlflowClient"
   ]
  },
  {
   "cell_type": "code",
   "execution_count": 23,
   "id": "c114b90e",
   "metadata": {},
   "outputs": [],
   "source": [
    "MLFLOW_TRACKING_URI='http://127.0.0.1:5000'\n",
    "RUN_ID='0b524fa448444456aa0ead18def76fcd'\n",
    "client=MlflowClient(tracking_uri=MLFLOW_TRACKING_URI)"
   ]
  },
  {
   "cell_type": "code",
   "execution_count": 24,
   "id": "65f10e94",
   "metadata": {},
   "outputs": [
    {
     "data": {
      "application/vnd.jupyter.widget-view+json": {
       "model_id": "e80e3ed7807841c08b6842944d963146",
       "version_major": 2,
       "version_minor": 0
      },
      "text/plain": [
       "Downloading artifacts:   0%|          | 0/1 [00:00<?, ?it/s]"
      ]
     },
     "metadata": {},
     "output_type": "display_data"
    }
   ],
   "source": [
    "path=client.download_artifacts(run_id=RUN_ID,path='dict_vectorizer.bin')"
   ]
  },
  {
   "cell_type": "code",
   "execution_count": 25,
   "id": "cea76a1f-046d-420a-b03b-f83aa0187a2d",
   "metadata": {},
   "outputs": [],
   "source": [
    "with open(path,'rb')as f_out:\n",
    "    dv=pickle.load(f_out)\n",
    "          "
   ]
  },
  {
   "cell_type": "code",
   "execution_count": 26,
   "id": "ea221d45",
   "metadata": {},
   "outputs": [
    {
     "data": {
      "text/plain": [
       "DictVectorizer()"
      ]
     },
     "execution_count": 26,
     "metadata": {},
     "output_type": "execute_result"
    }
   ],
   "source": [
    "dv"
   ]
  }
 ],
 "metadata": {
  "kernelspec": {
   "display_name": "Python 3 (ipykernel)",
   "language": "python",
   "name": "python3"
  },
  "language_info": {
   "codemirror_mode": {
    "name": "ipython",
    "version": 3
   },
   "file_extension": ".py",
   "mimetype": "text/x-python",
   "name": "python",
   "nbconvert_exporter": "python",
   "pygments_lexer": "ipython3",
   "version": "3.9.12"
  }
 },
 "nbformat": 4,
 "nbformat_minor": 5
}
