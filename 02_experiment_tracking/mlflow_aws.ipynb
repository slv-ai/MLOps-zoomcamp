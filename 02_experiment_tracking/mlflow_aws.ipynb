{
 "cells": [
  {
   "cell_type": "markdown",
   "id": "6b7860b5-fc71-477f-a8c4-c25db487365d",
   "metadata": {},
   "source": [
    "## Multiple people working on multiple ML models\n",
    "### MLFLOW SETUP:\n",
    "    * tracking server :remote server(aws)\n",
    "    * backend store:postgresql database\n",
    "    * artifacts store: s3 bucket"
   ]
  },
  {
   "cell_type": "code",
   "execution_count": null,
   "id": "d2a5711e-36c3-4f57-b926-aa477b232669",
   "metadata": {},
   "outputs": [],
   "source": [
    "import mlflow\n",
    "import os\n",
    "os.environ[\"AWS_PROFILE\"] = \"\"\n",
    "TRACKING_SERVER_HOST = \"\"\n",
    "mlflow.set_tracking_uri(f\"http://{TRACKING_SERVER_HOST}:5000\")"
   ]
  },
  {
   "cell_type": "code",
   "execution_count": null,
   "id": "e711445c-5d7d-4aba-a680-ca3ede274b1d",
   "metadata": {},
   "outputs": [],
   "source": [
    "print(f\"tracking uri :'{mlflow.get_tracking_uri()}'\")"
   ]
  },
  {
   "cell_type": "code",
   "execution_count": null,
   "id": "f73a699f-8d42-47bb-ac74-aa87002017c1",
   "metadata": {},
   "outputs": [],
   "source": [
    "mlflow.search_experiments()"
   ]
  },
  {
   "cell_type": "code",
   "execution_count": null,
   "id": "db8535c1-0281-4a19-a448-4539c8112f80",
   "metadata": {},
   "outputs": [],
   "source": [
    "from sklearn.linear_model import LogisticRegression\n",
    "from sklearn.datasets import load_iris\n",
    "from sklearn.metrics import accuracy_score\n",
    "\n",
    "mlflow.set_experiment(\"my_aws_experiment_1\")\n",
    "with mlflow.start_run():\n",
    "    X,y=load_iris(return_X_y=True)\n",
    "\n",
    "    params={\"c\":0.1,\n",
    "            \"random_state\":42\n",
    "           }\n",
    "    mlflow.log_params(params)\n",
    "    lr=LogisticRegression(**params).fit(X,y)\n",
    "    y_pred=lr.predict(X)\n",
    "    mlflow.log_metric(\"accuracy\",accuracy_score(y_pred,y))\n",
    "    mlflow.sklearn.log_model(lr,artifact_path=\"models\")\n",
    "    print(f\"default artifacts URI:'{mlflow.get_artifacts_uri()}'\")\n",
    "    \n",
    "    \n"
   ]
  },
  {
   "cell_type": "code",
   "execution_count": null,
   "id": "5f3fcd7e-5c35-4694-ac79-24a7479880ee",
   "metadata": {},
   "outputs": [],
   "source": [
    "mlflow.search_experiments()"
   ]
  }
 ],
 "metadata": {
  "kernelspec": {
   "display_name": "Python 3 (ipykernel)",
   "language": "python",
   "name": "python3"
  },
  "language_info": {
   "codemirror_mode": {
    "name": "ipython",
    "version": 3
   },
   "file_extension": ".py",
   "mimetype": "text/x-python",
   "name": "python",
   "nbconvert_exporter": "python",
   "pygments_lexer": "ipython3",
   "version": "3.12.1"
  }
 },
 "nbformat": 4,
 "nbformat_minor": 5
}
