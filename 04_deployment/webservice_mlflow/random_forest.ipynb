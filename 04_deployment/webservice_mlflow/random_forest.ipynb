{
 "cells": [
  {
   "cell_type": "code",
   "execution_count": 22,
   "id": "cd6f2599-bbb4-40be-98c6-c321698e00a3",
   "metadata": {},
   "outputs": [],
   "source": [
    "import pickle\n",
    "import pandas as pd\n",
    "from sklearn.feature_extraction import DictVectorizer\n",
    "from sklearn.ensemble import RandomForestRegressor\n",
    "from sklearn.metrics import mean_squared_error\n"
   ]
  },
  {
   "cell_type": "code",
   "execution_count": 23,
   "id": "8e3cedba-a809-403e-b58d-0597f32d9677",
   "metadata": {},
   "outputs": [],
   "source": [
    "from sklearn.pipeline import make_pipeline"
   ]
  },
  {
   "cell_type": "code",
   "execution_count": 32,
   "id": "ccb1da51-f291-4f7f-8e0c-25476e189580",
   "metadata": {},
   "outputs": [
    {
     "name": "stdout",
     "output_type": "stream",
     "text": [
      "Collecting python-dotenv\n",
      "  Downloading python_dotenv-1.0.1-py3-none-any.whl.metadata (23 kB)\n",
      "Downloading python_dotenv-1.0.1-py3-none-any.whl (19 kB)\n",
      "Installing collected packages: python-dotenv\n",
      "Successfully installed python-dotenv-1.0.1\n",
      "Note: you may need to restart the kernel to use updated packages.\n"
     ]
    }
   ],
   "source": [
    "pip install python-dotenv"
   ]
  },
  {
   "cell_type": "code",
   "execution_count": 3,
   "id": "c23dff7e-09f6-4954-a782-f45ae10f3fe3",
   "metadata": {},
   "outputs": [
    {
     "name": "stdout",
     "output_type": "stream",
     "text": [
      "Requirement already satisfied: mlflow in /opt/conda/envs/mlflow_env/lib/python3.9/site-packages (2.21.0)\n",
      "Requirement already satisfied: mlflow-skinny==2.21.0 in /opt/conda/envs/mlflow_env/lib/python3.9/site-packages (from mlflow) (2.21.0)\n",
      "Requirement already satisfied: Flask<4 in /opt/conda/envs/mlflow_env/lib/python3.9/site-packages (from mlflow) (3.1.0)\n",
      "Requirement already satisfied: Jinja2<4,>=2.11 in /opt/conda/envs/mlflow_env/lib/python3.9/site-packages (from mlflow) (3.1.6)\n",
      "Requirement already satisfied: alembic!=1.10.0,<2 in /opt/conda/envs/mlflow_env/lib/python3.9/site-packages (from mlflow) (1.15.1)\n",
      "Requirement already satisfied: docker<8,>=4.0.0 in /opt/conda/envs/mlflow_env/lib/python3.9/site-packages (from mlflow) (7.1.0)\n",
      "Requirement already satisfied: graphene<4 in /opt/conda/envs/mlflow_env/lib/python3.9/site-packages (from mlflow) (3.4.3)\n",
      "Requirement already satisfied: gunicorn<24 in /opt/conda/envs/mlflow_env/lib/python3.9/site-packages (from mlflow) (23.0.0)\n",
      "Requirement already satisfied: markdown<4,>=3.3 in /opt/conda/envs/mlflow_env/lib/python3.9/site-packages (from mlflow) (3.7)\n",
      "Requirement already satisfied: matplotlib<4 in /opt/conda/envs/mlflow_env/lib/python3.9/site-packages (from mlflow) (3.9.4)\n",
      "Requirement already satisfied: numpy<3 in /opt/conda/envs/mlflow_env/lib/python3.9/site-packages (from mlflow) (2.0.2)\n",
      "Requirement already satisfied: pandas<3 in /opt/conda/envs/mlflow_env/lib/python3.9/site-packages (from mlflow) (2.2.3)\n",
      "Requirement already satisfied: pyarrow<20,>=4.0.0 in /opt/conda/envs/mlflow_env/lib/python3.9/site-packages (from mlflow) (19.0.1)\n",
      "Requirement already satisfied: scikit-learn<2 in /opt/conda/envs/mlflow_env/lib/python3.9/site-packages (from mlflow) (1.6.1)\n",
      "Requirement already satisfied: scipy<2 in /opt/conda/envs/mlflow_env/lib/python3.9/site-packages (from mlflow) (1.13.1)\n",
      "Requirement already satisfied: sqlalchemy<3,>=1.4.0 in /opt/conda/envs/mlflow_env/lib/python3.9/site-packages (from mlflow) (2.0.39)\n",
      "Requirement already satisfied: cachetools<6,>=5.0.0 in /opt/conda/envs/mlflow_env/lib/python3.9/site-packages (from mlflow-skinny==2.21.0->mlflow) (5.5.2)\n",
      "Requirement already satisfied: click<9,>=7.0 in /opt/conda/envs/mlflow_env/lib/python3.9/site-packages (from mlflow-skinny==2.21.0->mlflow) (8.1.8)\n",
      "Requirement already satisfied: cloudpickle<4 in /opt/conda/envs/mlflow_env/lib/python3.9/site-packages (from mlflow-skinny==2.21.0->mlflow) (3.1.1)\n",
      "Requirement already satisfied: databricks-sdk<1,>=0.20.0 in /opt/conda/envs/mlflow_env/lib/python3.9/site-packages (from mlflow-skinny==2.21.0->mlflow) (0.46.0)\n",
      "Requirement already satisfied: fastapi<1 in /opt/conda/envs/mlflow_env/lib/python3.9/site-packages (from mlflow-skinny==2.21.0->mlflow) (0.115.11)\n",
      "Requirement already satisfied: gitpython<4,>=3.1.9 in /opt/conda/envs/mlflow_env/lib/python3.9/site-packages (from mlflow-skinny==2.21.0->mlflow) (3.1.44)\n",
      "Requirement already satisfied: importlib_metadata!=4.7.0,<9,>=3.7.0 in /opt/conda/envs/mlflow_env/lib/python3.9/site-packages (from mlflow-skinny==2.21.0->mlflow) (8.6.1)\n",
      "Requirement already satisfied: opentelemetry-api<3,>=1.9.0 in /opt/conda/envs/mlflow_env/lib/python3.9/site-packages (from mlflow-skinny==2.21.0->mlflow) (1.31.0)\n",
      "Requirement already satisfied: opentelemetry-sdk<3,>=1.9.0 in /opt/conda/envs/mlflow_env/lib/python3.9/site-packages (from mlflow-skinny==2.21.0->mlflow) (1.31.0)\n",
      "Requirement already satisfied: packaging<25 in /opt/conda/envs/mlflow_env/lib/python3.9/site-packages (from mlflow-skinny==2.21.0->mlflow) (24.2)\n",
      "Requirement already satisfied: protobuf<6,>=3.12.0 in /opt/conda/envs/mlflow_env/lib/python3.9/site-packages (from mlflow-skinny==2.21.0->mlflow) (5.29.3)\n",
      "Requirement already satisfied: pydantic<3,>=1.10.8 in /opt/conda/envs/mlflow_env/lib/python3.9/site-packages (from mlflow-skinny==2.21.0->mlflow) (2.10.6)\n",
      "Requirement already satisfied: pyyaml<7,>=5.1 in /opt/conda/envs/mlflow_env/lib/python3.9/site-packages (from mlflow-skinny==2.21.0->mlflow) (6.0.2)\n",
      "Requirement already satisfied: requests<3,>=2.17.3 in /opt/conda/envs/mlflow_env/lib/python3.9/site-packages (from mlflow-skinny==2.21.0->mlflow) (2.32.3)\n",
      "Requirement already satisfied: sqlparse<1,>=0.4.0 in /opt/conda/envs/mlflow_env/lib/python3.9/site-packages (from mlflow-skinny==2.21.0->mlflow) (0.5.3)\n",
      "Requirement already satisfied: typing-extensions<5,>=4.0.0 in /opt/conda/envs/mlflow_env/lib/python3.9/site-packages (from mlflow-skinny==2.21.0->mlflow) (4.12.2)\n",
      "Requirement already satisfied: uvicorn<1 in /opt/conda/envs/mlflow_env/lib/python3.9/site-packages (from mlflow-skinny==2.21.0->mlflow) (0.34.0)\n",
      "Requirement already satisfied: Mako in /opt/conda/envs/mlflow_env/lib/python3.9/site-packages (from alembic!=1.10.0,<2->mlflow) (1.3.9)\n",
      "Requirement already satisfied: urllib3>=1.26.0 in /opt/conda/envs/mlflow_env/lib/python3.9/site-packages (from docker<8,>=4.0.0->mlflow) (2.3.0)\n",
      "Requirement already satisfied: Werkzeug>=3.1 in /opt/conda/envs/mlflow_env/lib/python3.9/site-packages (from Flask<4->mlflow) (3.1.3)\n",
      "Requirement already satisfied: itsdangerous>=2.2 in /opt/conda/envs/mlflow_env/lib/python3.9/site-packages (from Flask<4->mlflow) (2.2.0)\n",
      "Requirement already satisfied: blinker>=1.9 in /opt/conda/envs/mlflow_env/lib/python3.9/site-packages (from Flask<4->mlflow) (1.9.0)\n",
      "Requirement already satisfied: graphql-core<3.3,>=3.1 in /opt/conda/envs/mlflow_env/lib/python3.9/site-packages (from graphene<4->mlflow) (3.2.6)\n",
      "Requirement already satisfied: graphql-relay<3.3,>=3.1 in /opt/conda/envs/mlflow_env/lib/python3.9/site-packages (from graphene<4->mlflow) (3.2.0)\n",
      "Requirement already satisfied: python-dateutil<3,>=2.7.0 in /opt/conda/envs/mlflow_env/lib/python3.9/site-packages (from graphene<4->mlflow) (2.9.0.post0)\n",
      "Requirement already satisfied: MarkupSafe>=2.0 in /opt/conda/envs/mlflow_env/lib/python3.9/site-packages (from Jinja2<4,>=2.11->mlflow) (3.0.2)\n",
      "Requirement already satisfied: contourpy>=1.0.1 in /opt/conda/envs/mlflow_env/lib/python3.9/site-packages (from matplotlib<4->mlflow) (1.3.0)\n",
      "Requirement already satisfied: cycler>=0.10 in /opt/conda/envs/mlflow_env/lib/python3.9/site-packages (from matplotlib<4->mlflow) (0.12.1)\n",
      "Requirement already satisfied: fonttools>=4.22.0 in /opt/conda/envs/mlflow_env/lib/python3.9/site-packages (from matplotlib<4->mlflow) (4.56.0)\n",
      "Requirement already satisfied: kiwisolver>=1.3.1 in /opt/conda/envs/mlflow_env/lib/python3.9/site-packages (from matplotlib<4->mlflow) (1.4.7)\n",
      "Requirement already satisfied: pillow>=8 in /opt/conda/envs/mlflow_env/lib/python3.9/site-packages (from matplotlib<4->mlflow) (11.1.0)\n",
      "Requirement already satisfied: pyparsing>=2.3.1 in /opt/conda/envs/mlflow_env/lib/python3.9/site-packages (from matplotlib<4->mlflow) (3.2.1)\n",
      "Requirement already satisfied: importlib-resources>=3.2.0 in /opt/conda/envs/mlflow_env/lib/python3.9/site-packages (from matplotlib<4->mlflow) (6.5.2)\n",
      "Requirement already satisfied: pytz>=2020.1 in /opt/conda/envs/mlflow_env/lib/python3.9/site-packages (from pandas<3->mlflow) (2025.1)\n",
      "Requirement already satisfied: tzdata>=2022.7 in /opt/conda/envs/mlflow_env/lib/python3.9/site-packages (from pandas<3->mlflow) (2025.1)\n",
      "Requirement already satisfied: joblib>=1.2.0 in /opt/conda/envs/mlflow_env/lib/python3.9/site-packages (from scikit-learn<2->mlflow) (1.4.2)\n",
      "Requirement already satisfied: threadpoolctl>=3.1.0 in /opt/conda/envs/mlflow_env/lib/python3.9/site-packages (from scikit-learn<2->mlflow) (3.6.0)\n",
      "Requirement already satisfied: greenlet!=0.4.17 in /opt/conda/envs/mlflow_env/lib/python3.9/site-packages (from sqlalchemy<3,>=1.4.0->mlflow) (3.1.1)\n",
      "Requirement already satisfied: google-auth~=2.0 in /opt/conda/envs/mlflow_env/lib/python3.9/site-packages (from databricks-sdk<1,>=0.20.0->mlflow-skinny==2.21.0->mlflow) (2.38.0)\n",
      "Requirement already satisfied: starlette<0.47.0,>=0.40.0 in /opt/conda/envs/mlflow_env/lib/python3.9/site-packages (from fastapi<1->mlflow-skinny==2.21.0->mlflow) (0.46.1)\n",
      "Requirement already satisfied: gitdb<5,>=4.0.1 in /opt/conda/envs/mlflow_env/lib/python3.9/site-packages (from gitpython<4,>=3.1.9->mlflow-skinny==2.21.0->mlflow) (4.0.12)\n",
      "Requirement already satisfied: zipp>=3.20 in /opt/conda/envs/mlflow_env/lib/python3.9/site-packages (from importlib_metadata!=4.7.0,<9,>=3.7.0->mlflow-skinny==2.21.0->mlflow) (3.21.0)\n",
      "Requirement already satisfied: deprecated>=1.2.6 in /opt/conda/envs/mlflow_env/lib/python3.9/site-packages (from opentelemetry-api<3,>=1.9.0->mlflow-skinny==2.21.0->mlflow) (1.2.18)\n",
      "Requirement already satisfied: opentelemetry-semantic-conventions==0.52b0 in /opt/conda/envs/mlflow_env/lib/python3.9/site-packages (from opentelemetry-sdk<3,>=1.9.0->mlflow-skinny==2.21.0->mlflow) (0.52b0)\n",
      "Requirement already satisfied: annotated-types>=0.6.0 in /opt/conda/envs/mlflow_env/lib/python3.9/site-packages (from pydantic<3,>=1.10.8->mlflow-skinny==2.21.0->mlflow) (0.7.0)\n",
      "Requirement already satisfied: pydantic-core==2.27.2 in /opt/conda/envs/mlflow_env/lib/python3.9/site-packages (from pydantic<3,>=1.10.8->mlflow-skinny==2.21.0->mlflow) (2.27.2)\n",
      "Requirement already satisfied: six>=1.5 in /opt/conda/envs/mlflow_env/lib/python3.9/site-packages (from python-dateutil<3,>=2.7.0->graphene<4->mlflow) (1.17.0)\n",
      "Requirement already satisfied: charset-normalizer<4,>=2 in /opt/conda/envs/mlflow_env/lib/python3.9/site-packages (from requests<3,>=2.17.3->mlflow-skinny==2.21.0->mlflow) (3.4.1)\n",
      "Requirement already satisfied: idna<4,>=2.5 in /opt/conda/envs/mlflow_env/lib/python3.9/site-packages (from requests<3,>=2.17.3->mlflow-skinny==2.21.0->mlflow) (3.10)\n",
      "Requirement already satisfied: certifi>=2017.4.17 in /opt/conda/envs/mlflow_env/lib/python3.9/site-packages (from requests<3,>=2.17.3->mlflow-skinny==2.21.0->mlflow) (2025.1.31)\n",
      "Requirement already satisfied: h11>=0.8 in /opt/conda/envs/mlflow_env/lib/python3.9/site-packages (from uvicorn<1->mlflow-skinny==2.21.0->mlflow) (0.14.0)\n",
      "Requirement already satisfied: wrapt<2,>=1.10 in /opt/conda/envs/mlflow_env/lib/python3.9/site-packages (from deprecated>=1.2.6->opentelemetry-api<3,>=1.9.0->mlflow-skinny==2.21.0->mlflow) (1.17.2)\n",
      "Requirement already satisfied: smmap<6,>=3.0.1 in /opt/conda/envs/mlflow_env/lib/python3.9/site-packages (from gitdb<5,>=4.0.1->gitpython<4,>=3.1.9->mlflow-skinny==2.21.0->mlflow) (5.0.2)\n",
      "Requirement already satisfied: pyasn1-modules>=0.2.1 in /opt/conda/envs/mlflow_env/lib/python3.9/site-packages (from google-auth~=2.0->databricks-sdk<1,>=0.20.0->mlflow-skinny==2.21.0->mlflow) (0.4.1)\n",
      "Requirement already satisfied: rsa<5,>=3.1.4 in /opt/conda/envs/mlflow_env/lib/python3.9/site-packages (from google-auth~=2.0->databricks-sdk<1,>=0.20.0->mlflow-skinny==2.21.0->mlflow) (4.9)\n",
      "Requirement already satisfied: anyio<5,>=3.6.2 in /opt/conda/envs/mlflow_env/lib/python3.9/site-packages (from starlette<0.47.0,>=0.40.0->fastapi<1->mlflow-skinny==2.21.0->mlflow) (4.9.0)\n",
      "Requirement already satisfied: exceptiongroup>=1.0.2 in /opt/conda/envs/mlflow_env/lib/python3.9/site-packages (from anyio<5,>=3.6.2->starlette<0.47.0,>=0.40.0->fastapi<1->mlflow-skinny==2.21.0->mlflow) (1.2.2)\n",
      "Requirement already satisfied: sniffio>=1.1 in /opt/conda/envs/mlflow_env/lib/python3.9/site-packages (from anyio<5,>=3.6.2->starlette<0.47.0,>=0.40.0->fastapi<1->mlflow-skinny==2.21.0->mlflow) (1.3.1)\n",
      "Requirement already satisfied: pyasn1<0.7.0,>=0.4.6 in /opt/conda/envs/mlflow_env/lib/python3.9/site-packages (from pyasn1-modules>=0.2.1->google-auth~=2.0->databricks-sdk<1,>=0.20.0->mlflow-skinny==2.21.0->mlflow) (0.6.1)\n",
      "Note: you may need to restart the kernel to use updated packages.\n"
     ]
    }
   ],
   "source": [
    "pip install mlflow"
   ]
  },
  {
   "cell_type": "code",
   "execution_count": 4,
   "id": "a9d3faad-f383-4163-923f-86b7ba375f86",
   "metadata": {},
   "outputs": [
    {
     "name": "stdout",
     "output_type": "stream",
     "text": [
      "Collecting boto3\n",
      "  Downloading boto3-1.37.18-py3-none-any.whl.metadata (6.7 kB)\n",
      "Collecting botocore<1.38.0,>=1.37.18 (from boto3)\n",
      "  Downloading botocore-1.37.18-py3-none-any.whl.metadata (5.7 kB)\n",
      "Collecting jmespath<2.0.0,>=0.7.1 (from boto3)\n",
      "  Using cached jmespath-1.0.1-py3-none-any.whl.metadata (7.6 kB)\n",
      "Collecting s3transfer<0.12.0,>=0.11.0 (from boto3)\n",
      "  Using cached s3transfer-0.11.4-py3-none-any.whl.metadata (1.7 kB)\n",
      "Requirement already satisfied: python-dateutil<3.0.0,>=2.1 in /opt/conda/envs/mlflow_env/lib/python3.9/site-packages (from botocore<1.38.0,>=1.37.18->boto3) (2.9.0.post0)\n",
      "Collecting urllib3<1.27,>=1.25.4 (from botocore<1.38.0,>=1.37.18->boto3)\n",
      "  Downloading urllib3-1.26.20-py2.py3-none-any.whl.metadata (50 kB)\n",
      "Requirement already satisfied: six>=1.5 in /opt/conda/envs/mlflow_env/lib/python3.9/site-packages (from python-dateutil<3.0.0,>=2.1->botocore<1.38.0,>=1.37.18->boto3) (1.17.0)\n",
      "Downloading boto3-1.37.18-py3-none-any.whl (139 kB)\n",
      "Downloading botocore-1.37.18-py3-none-any.whl (13.4 MB)\n",
      "\u001b[2K   \u001b[38;2;114;156;31m━━━━━━━━━━━━━━━━━━━━━━━━━━━━━━━━━━━━━━━━\u001b[0m \u001b[32m13.4/13.4 MB\u001b[0m \u001b[31m54.3 MB/s\u001b[0m eta \u001b[36m0:00:00\u001b[0m0m eta \u001b[36m0:00:01\u001b[0m\n",
      "\u001b[?25hUsing cached jmespath-1.0.1-py3-none-any.whl (20 kB)\n",
      "Using cached s3transfer-0.11.4-py3-none-any.whl (84 kB)\n",
      "Downloading urllib3-1.26.20-py2.py3-none-any.whl (144 kB)\n",
      "Installing collected packages: urllib3, jmespath, botocore, s3transfer, boto3\n",
      "  Attempting uninstall: urllib3\n",
      "    Found existing installation: urllib3 2.3.0\n",
      "    Uninstalling urllib3-2.3.0:\n",
      "      Successfully uninstalled urllib3-2.3.0\n",
      "Successfully installed boto3-1.37.18 botocore-1.37.18 jmespath-1.0.1 s3transfer-0.11.4 urllib3-1.26.20\n",
      "Note: you may need to restart the kernel to use updated packages.\n"
     ]
    }
   ],
   "source": [
    "pip install boto3"
   ]
  },
  {
   "cell_type": "code",
   "execution_count": 5,
   "id": "f17a36d9-e40c-42d5-8a82-5c5d651a4262",
   "metadata": {},
   "outputs": [
    {
     "name": "stdout",
     "output_type": "stream",
     "text": [
      "1.37.18\n"
     ]
    }
   ],
   "source": [
    "import boto3\n",
    "print(boto3.__version__)"
   ]
  },
  {
   "cell_type": "code",
   "execution_count": 35,
   "id": "c12019f2-5034-408d-9524-2ac1b9ea75ff",
   "metadata": {},
   "outputs": [],
   "source": [
    "import os\n",
    "from dotenv import load_dotenv\n",
    "load_dotenv()\n",
    "AWS_ACCESS_KEY_ID = os.getenv('AWS_ACCESS_KEY_ID')\n",
    "AWS_SECRET_ACCESS_KEY = os.getenv('AWS_SECRET_ACCESS_KEY')\n",
    "DEFAULT_REGION_NAME = os.getenv('DEFAULT_REGION_NAME')\n",
    "\n",
    "\n",
    "os.environ[\"AWS_PROFILE\"] = \"ml_user\""
   ]
  },
  {
   "cell_type": "code",
   "execution_count": 36,
   "id": "5f6b2f82-ef96-4328-aa0e-c16e128859d1",
   "metadata": {},
   "outputs": [
    {
     "name": "stdout",
     "output_type": "stream",
     "text": [
      "{'ResponseMetadata': {'RequestId': 'ARHF2CJVACDEXSZ7', 'HostId': 'bFEJEYSeHrY2Jh+H9Oc6Z6K9OYLc9jiELdEvUeizRz2LDOKjM/kag03VG8Q+BR63MfVTz81XGZQ=', 'HTTPStatusCode': 200, 'HTTPHeaders': {'x-amz-id-2': 'bFEJEYSeHrY2Jh+H9Oc6Z6K9OYLc9jiELdEvUeizRz2LDOKjM/kag03VG8Q+BR63MfVTz81XGZQ=', 'x-amz-request-id': 'ARHF2CJVACDEXSZ7', 'date': 'Fri, 21 Mar 2025 22:34:47 GMT', 'x-amz-bucket-region': 'us-east-1', 'content-type': 'application/xml', 'transfer-encoding': 'chunked', 'server': 'AmazonS3'}, 'RetryAttempts': 0}, 'IsTruncated': False, 'Contents': [{'Key': 'test_file/', 'LastModified': datetime.datetime(2025, 3, 21, 22, 23, 31, tzinfo=tzlocal()), 'ETag': '\"d41d8cd98f00b204e9800998ecf8427e\"', 'ChecksumAlgorithm': ['CRC64NVME'], 'ChecksumType': 'FULL_OBJECT', 'Size': 0, 'StorageClass': 'STANDARD'}], 'Name': 'mlflow-models-slv', 'Prefix': '', 'MaxKeys': 1000, 'EncodingType': 'url', 'KeyCount': 1}\n"
     ]
    }
   ],
   "source": [
    "import boto3\n",
    "\n",
    "# Create a session using the profile 'ml_user'\n",
    "session = boto3.Session(profile_name='ml_user')\n",
    "\n",
    "# Create an S3 client using the session\n",
    "s3_client = session.client('s3')\n",
    "\n",
    "# List objects in the specified S3 bucket\n",
    "response = s3_client.list_objects_v2(Bucket='mlflow-models-slv')\n",
    "\n",
    "# Print the response\n",
    "print(response)"
   ]
  },
  {
   "cell_type": "code",
   "execution_count": 37,
   "id": "c74002ed-176c-47dc-8206-ec5cf9037367",
   "metadata": {},
   "outputs": [
    {
     "data": {
      "text/plain": [
       "<Experiment: artifact_location='s3://mlflow-models-slv/1', creation_time=1742594167031, experiment_id='1', last_update_time=1742594167031, lifecycle_stage='active', name='green taxi duration', tags={}>"
      ]
     },
     "execution_count": 37,
     "metadata": {},
     "output_type": "execute_result"
    }
   ],
   "source": [
    "import mlflow\n",
    "mlflow.set_tracking_uri(\"http://127.0.0.1:5000\")\n",
    "mlflow.set_experiment(\"green taxi duration\")"
   ]
  },
  {
   "cell_type": "code",
   "execution_count": 38,
   "id": "077f20eb-8ec8-4b3c-91e3-dc03b9d3aee6",
   "metadata": {},
   "outputs": [],
   "source": [
    "def read_dataframe(filename: str):\n",
    "    df=pd.read_parquet(filename)\n",
    "    df['duration']=df.lpep_dropoff_datetime - df.lpep_pickup_datetime\n",
    "    df.duration=df.duration.apply(lambda m : m.total_seconds() / 60)\n",
    "    \n",
    "    df=df[(df.duration >= 1) & (df.duration <= 60)]\n",
    "    categorical=['PULocationID','DOLocationID']\n",
    "    df[categorical]=df[categorical].astype(str)\n",
    "    return df    \n",
    "    "
   ]
  },
  {
   "cell_type": "code",
   "execution_count": 39,
   "id": "a2ccfecd-110d-4241-b64a-b4f230e3ad6a",
   "metadata": {},
   "outputs": [],
   "source": [
    "def prepare_dictionaries(df:pd.DataFrame):\n",
    "    df['PU_DO']=df['PULocationID'] + '_' + df['DOLocationID']\n",
    "    categorical=['PU_DO']\n",
    "    numerical=['trip_distance']\n",
    "    dicts=df[categorical + numerical].to_dict(orient='records')\n",
    "    return dicts"
   ]
  },
  {
   "cell_type": "code",
   "execution_count": 40,
   "id": "5b97f0ed-9895-4242-b9f3-95bd40c6c70b",
   "metadata": {},
   "outputs": [],
   "source": [
    "df_train=read_dataframe('https://d37ci6vzurychx.cloudfront.net/trip-data/green_tripdata_2021-01.parquet')\n",
    "df_val=read_dataframe('https://d37ci6vzurychx.cloudfront.net/trip-data/green_tripdata_2021-02.parquet')\n",
    "target='duration'\n",
    "y_train=df_train[target].values\n",
    "y_val=df_val[target].values\n",
    "\n",
    "dict_train=prepare_dictionaries(df_train)\n",
    "dict_val=prepare_dictionaries(df_val)"
   ]
  },
  {
   "cell_type": "code",
   "execution_count": 41,
   "id": "a67d7af9-bb07-48f8-8640-8ae0f545fddd",
   "metadata": {},
   "outputs": [
    {
     "data": {
      "text/plain": [
       "(73908, 61921)"
      ]
     },
     "execution_count": 41,
     "metadata": {},
     "output_type": "execute_result"
    }
   ],
   "source": [
    "len(df_train),len(df_val)"
   ]
  },
  {
   "cell_type": "code",
   "execution_count": 42,
   "id": "48f863eb-4b75-4048-9533-f762108fb2f5",
   "metadata": {},
   "outputs": [
    {
     "name": "stdout",
     "output_type": "stream",
     "text": [
      "{'max_depth': 20, 'n_estimators': 100, 'min_samples_leaf': 10, 'random_state': 0} 45.64114429815588\n"
     ]
    },
    {
     "name": "stderr",
     "output_type": "stream",
     "text": [
      "\u001b[31m2025/03/21 22:35:36 WARNING mlflow.models.model: Model logged without a signature and input example. Please set `input_example` parameter when logging the model to auto infer the model signature.\u001b[0m\n"
     ]
    },
    {
     "name": "stdout",
     "output_type": "stream",
     "text": [
      "🏃 View run gaudy-carp-451 at: http://127.0.0.1:5000/#/experiments/1/runs/da8ff84b1e2e43e4912e184470d7aec2\n",
      "🧪 View experiment at: http://127.0.0.1:5000/#/experiments/1\n"
     ]
    }
   ],
   "source": [
    "with mlflow.start_run():\n",
    "    params=dict(max_depth=20,n_estimators=100,min_samples_leaf=10,random_state=0)\n",
    "    mlflow.log_params(params)\n",
    "\n",
    "    dv = DictVectorizer()\n",
    "    model = RandomForestRegressor(**params,n_jobs=-1)\n",
    "\n",
    "    X_train = dv.fit_transform(dict_train)\n",
    "    model.fit(X_train,y_train)\n",
    "\n",
    "    X_val = dv.transform(dict_val)\n",
    "    y_pred = model.predict(X_val)\n",
    "\n",
    "   \n",
    "    mse = mean_squared_error(y_val, y_pred)\n",
    "    print(params,mse)\n",
    "    mlflow.log_metric('mse',mse)\n",
    "    \n",
    "    mlflow.sklearn.log_model(model,artifact_path=\"model\")\n",
    "\n",
    "    with open('dict_vectorizer.bin','wb') as f_out:\n",
    "        pickle.dump(dv,f_out)\n",
    "    "
   ]
  },
  {
   "cell_type": "markdown",
   "id": "c079930a-6eea-49f0-b581-7e8350b1c6e6",
   "metadata": {},
   "source": [
    "### using sklearn pipeline"
   ]
  },
  {
   "cell_type": "code",
   "execution_count": 43,
   "id": "b4d8f8bb-29d2-4c2a-a075-c358714f8d10",
   "metadata": {},
   "outputs": [
    {
     "name": "stdout",
     "output_type": "stream",
     "text": [
      "{'max_depth': 20, 'n_estimators': 100, 'min_samples_leaf': 10, 'random_state': 0} 45.64114429815588\n"
     ]
    },
    {
     "name": "stderr",
     "output_type": "stream",
     "text": [
      "\u001b[31m2025/03/21 22:38:07 WARNING mlflow.models.model: Model logged without a signature and input example. Please set `input_example` parameter when logging the model to auto infer the model signature.\u001b[0m\n"
     ]
    },
    {
     "name": "stdout",
     "output_type": "stream",
     "text": [
      "🏃 View run smiling-loon-660 at: http://127.0.0.1:5000/#/experiments/1/runs/51ac55521a414c17869dc2eccb873ee2\n",
      "🧪 View experiment at: http://127.0.0.1:5000/#/experiments/1\n"
     ]
    }
   ],
   "source": [
    "with mlflow.start_run():\n",
    "    params=dict(max_depth=20,n_estimators=100,min_samples_leaf=10,random_state=0)\n",
    "    mlflow.log_params(params)\n",
    "    pipeline=make_pipeline(\n",
    "        DictVectorizer(),\n",
    "        RandomForestRegressor(**params,n_jobs=-1)\n",
    "    )\n",
    "    pipeline.fit(dict_train,y_train)\n",
    "    y_pred=pipeline.predict(dict_val)\n",
    "    \n",
    "    mse=mean_squared_error(y_pred,y_val)\n",
    "    print(params,mse)\n",
    "    mlflow.log_metric('mse',mse)\n",
    "    mlflow.sklearn.log_model(pipeline,artifact_path=\"model\")\n",
    "    \n",
    "    "
   ]
  },
  {
   "cell_type": "code",
   "execution_count": null,
   "id": "cea76a1f-046d-420a-b03b-f83aa0187a2d",
   "metadata": {},
   "outputs": [],
   "source": [
    "with open(path,'rb')as f_out:\n",
    "    dv=pickle.load(f_out)\n",
    "          "
   ]
  }
 ],
 "metadata": {
  "kernelspec": {
   "display_name": "Python 3 (ipykernel)",
   "language": "python",
   "name": "python3"
  },
  "language_info": {
   "codemirror_mode": {
    "name": "ipython",
    "version": 3
   },
   "file_extension": ".py",
   "mimetype": "text/x-python",
   "name": "python",
   "nbconvert_exporter": "python",
   "pygments_lexer": "ipython3",
   "version": "3.9.21"
  }
 },
 "nbformat": 4,
 "nbformat_minor": 5
}
