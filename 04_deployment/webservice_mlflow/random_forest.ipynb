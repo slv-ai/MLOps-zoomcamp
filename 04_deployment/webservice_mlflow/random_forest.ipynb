{
 "cells": [
  {
   "cell_type": "code",
   "execution_count": 1,
   "id": "cd6f2599-bbb4-40be-98c6-c321698e00a3",
   "metadata": {},
   "outputs": [],
   "source": [
    "import pickle\n",
    "import pandas as pd\n",
    "from sklearn.feature_extraction import DictVectorizer\n",
    "from sklearn.ensemble import RandomForestRegressor\n",
    "from sklearn.metrics import mean_squared_error\n"
   ]
  },
  {
   "cell_type": "code",
   "execution_count": 2,
   "id": "8e3cedba-a809-403e-b58d-0597f32d9677",
   "metadata": {},
   "outputs": [],
   "source": [
    "from sklearn.pipeline import make_pipeline"
   ]
  },
  {
   "cell_type": "code",
   "execution_count": null,
   "id": "c74002ed-176c-47dc-8206-ec5cf9037367",
   "metadata": {},
   "outputs": [],
   "source": [
    "import mlflow\n",
    "mlflow.set_tracking_uri(\"\")\n",
    "mlflow.set_experiment(\"\")"
   ]
  },
  {
   "cell_type": "code",
   "execution_count": 4,
   "id": "077f20eb-8ec8-4b3c-91e3-dc03b9d3aee6",
   "metadata": {},
   "outputs": [],
   "source": [
    "def read_dataframe(filename: str):\n",
    "    df=pd.read_parquet(filename)\n",
    "    df['duration']=df.lpep_dropoff_datetime - df.lpep_pickup_datetime\n",
    "    df.duration=df.duration.apply(lambda m : m.total_seconds() / 60)\n",
    "    \n",
    "    df=df[(df.duration >= 1) & (df.duration <= 60)]\n",
    "    categorical=['PULocationID','DOLocationID']\n",
    "    df[categorical]=df[categorical].astype(str)\n",
    "    return df    \n",
    "    "
   ]
  },
  {
   "cell_type": "code",
   "execution_count": 5,
   "id": "a2ccfecd-110d-4241-b64a-b4f230e3ad6a",
   "metadata": {},
   "outputs": [],
   "source": [
    "def prepare_dictionaries(df:pd.DataFrame):\n",
    "    df['PU_DO']=df['PULocationID']+'_'+df['DOLocationID']\n",
    "    categorical=['PU_DO']\n",
    "    numerical=['trip_distance']\n",
    "    dict=df[categorical + numerical].to_dict(orient='records')"
   ]
  },
  {
   "cell_type": "code",
   "execution_count": null,
   "id": "5b97f0ed-9895-4242-b9f3-95bd40c6c70b",
   "metadata": {},
   "outputs": [],
   "source": [
    "df_train=read_dataframe('https://d37ci6vzurychx.cloudfront.net/trip-data/green_tripdata_2021-01.parquet')\n",
    "df_val=read_dataframe('https://d37ci6vzurychx.cloudfront.net/trip-data/green_tripdata_2021-02.parquet')\n",
    "target='duration'\n",
    "y_train=df_train[target].values\n",
    "y_val=df_val[target].values\n",
    "\n",
    "dict_train=prepare_dictionaries(df_train)\n",
    "dict_val=prepare_dictionaries(df_val)"
   ]
  },
  {
   "cell_type": "code",
   "execution_count": null,
   "id": "b4d8f8bb-29d2-4c2a-a075-c358714f8d10",
   "metadata": {},
   "outputs": [],
   "source": [
    "with mlflow.start_run():\n",
    "    params=dict(max_depth=20,n_estimators=100,min_samples_leaf=10,random_state=0)\n",
    "    mlflow.log_params(params)\n",
    "    pipeline=make_pipeline(\n",
    "        DictVectorizer(),\n",
    "        RandomForestRegressor(**params,n_jobs=-1)\n",
    "    )\n",
    "    pipeline.fit(dict_train,y_train)\n",
    "    y_pred=pipeline.predict(dict_val)\n",
    "    rmse=mean_squared_error(y_pred,y_val,squared=False)\n",
    "    print(params,rmse)\n",
    "    mlflow.log_metric('rmse',rmse)\n",
    "    mlflow.sklearn.log_model(pipeline,artifact_path=\"model\")\n",
    "    \n",
    "    "
   ]
  },
  {
   "cell_type": "code",
   "execution_count": 6,
   "id": "3abc496b-59a2-41b8-857a-0201884945c0",
   "metadata": {},
   "outputs": [
    {
     "ename": "ModuleNotFoundError",
     "evalue": "No module named 'mlflow'",
     "output_type": "error",
     "traceback": [
      "\u001b[1;31m---------------------------------------------------------------------------\u001b[0m",
      "\u001b[1;31mModuleNotFoundError\u001b[0m                       Traceback (most recent call last)",
      "Cell \u001b[1;32mIn[6], line 1\u001b[0m\n\u001b[1;32m----> 1\u001b[0m \u001b[38;5;28;01mfrom\u001b[39;00m \u001b[38;5;21;01mmlflow\u001b[39;00m\u001b[38;5;21;01m.\u001b[39;00m\u001b[38;5;21;01mtracking\u001b[39;00m \u001b[38;5;28;01mimport\u001b[39;00m MlflowClient\n",
      "\u001b[1;31mModuleNotFoundError\u001b[0m: No module named 'mlflow'"
     ]
    }
   ],
   "source": [
    "from mlflow.tracking import MlflowClient"
   ]
  },
  {
   "cell_type": "code",
   "execution_count": null,
   "id": "e87fa6ef-3c94-49a5-9375-36df0a867e23",
   "metadata": {},
   "outputs": [],
   "source": [
    "MLFLOW_TRACKING_URI = ''\n",
    "RUN_ID = ''\n",
    "client=MlflowClient(tracking_uri= MLFLOW_TRACKING_URI)"
   ]
  },
  {
   "cell_type": "code",
   "execution_count": null,
   "id": "30c55358-d483-4d90-bdfd-2c60c1e71890",
   "metadata": {},
   "outputs": [],
   "source": [
    "path=client.download_artifacts(run_id=RUN_ID,path='dict_vectorizer.bin')"
   ]
  },
  {
   "cell_type": "code",
   "execution_count": null,
   "id": "cea76a1f-046d-420a-b03b-f83aa0187a2d",
   "metadata": {},
   "outputs": [],
   "source": [
    "with open(path,'rb')as f_out:\n",
    "    dv=pickle.load(f_out)\n",
    "          "
   ]
  }
 ],
 "metadata": {
  "kernelspec": {
   "display_name": "Python 3 (ipykernel)",
   "language": "python",
   "name": "python3"
  },
  "language_info": {
   "codemirror_mode": {
    "name": "ipython",
    "version": 3
   },
   "file_extension": ".py",
   "mimetype": "text/x-python",
   "name": "python",
   "nbconvert_exporter": "python",
   "pygments_lexer": "ipython3",
   "version": "3.11.7"
  }
 },
 "nbformat": 4,
 "nbformat_minor": 5
}
